{
  "nbformat": 4,
  "nbformat_minor": 0,
  "metadata": {
    "colab": {
      "name": "organized_twitter_data",
      "provenance": [],
      "collapsed_sections": [
        "uchE82sc0m2o",
        "Kz_hzzMb1Iep",
        "YD-bFJBz1L1g",
        "vbs0xefV1O9Q",
        "Z0fNPUiH1SPQ",
        "sGM-wd7j1XZT",
        "hFenlW4S1umI",
        "E9QWNn4912p4",
        "LfTpHHXo18TT",
        "CtZ1V-0Q2AqK",
        "sahdnGHs2JCw",
        "jyHUspqk2MJa",
        "6Y67V5cY2TSp",
        "DYixPjGq2aU3",
        "86lmSiit2ejn",
        "aQb9grK52idn",
        "pkShX6aw2lUA",
        "Z1WXtsY12nIQ",
        "gklZeHyy2pY3",
        "AReRlyuk2qoR",
        "NE5xAXWS2s6w",
        "lmfK4ar_2u1g",
        "B7oR6Nx_253p",
        "4jz7_eAj28jQ",
        "TDvfI_D22-pb",
        "mg7-EMaf3Bjh",
        "j968JIVR3IJA",
        "WgBN3rbl3KRw",
        "hrwaSnzq3NvC",
        "ZW-ZVw7c3Rr3",
        "Hq5gnOXD3UhX",
        "Q8sM1ELH3Xih",
        "4k695WDy3aYR",
        "dm1XbCbi3cWZ",
        "8UWlRVfu3fQq",
        "TE0vU0VG3h2o",
        "iEiXKNpB3lVX",
        "It5jjYIN3tdH",
        "oiGeP1bw39bx",
        "hHaMl7Sl5Hmr",
        "XSWN4s8Q4B4T",
        "HptddsMJ4D-a",
        "glHHgqC-oqr2",
        "8CocOrrCrpnr"
      ]
    },
    "kernelspec": {
      "display_name": "Python 3",
      "name": "python3"
    },
    "language_info": {
      "name": "python"
    }
  },
  "cells": [
    {
      "cell_type": "markdown",
      "metadata": {
        "id": "NSzjB0sLbsxK"
      },
      "source": [
        "# Cleaning and Organizing data extracted from twitter with Octoparse"
      ]
    },
    {
      "cell_type": "code",
      "metadata": {
        "id": "xUcwZtvTbHUn"
      },
      "source": [
        "import pandas as pd"
      ],
      "execution_count": null,
      "outputs": []
    },
    {
      "cell_type": "markdown",
      "metadata": {
        "id": "1_bkFfvQb5hJ"
      },
      "source": [
        "# Getting the datasets\n",
        "\n",
        "The csv files below was acquired using web scraping via Octoparse. \\\n",
        "Link Octoparse: https://www.octoparse.com/ \\\n",
        "Link PET-MA tutorial to scrap tweets from twitter using octoparse:"
      ]
    },
    {
      "cell_type": "code",
      "metadata": {
        "id": "SR9-pxPhngxm"
      },
      "source": [
        "# df_tweets = pd.read_csv(\"/content/drive/MyDrive/DI - Analise Bitcoin - GPU/4. Execução/0. Dados Coletados/all_tweets.csv\", names=[\"Field1\", \"Text\", \"Text1\", \"Text2\"] )\n",
        "# df_tweets"
      ],
      "execution_count": null,
      "outputs": []
    },
    {
      "cell_type": "markdown",
      "metadata": {
        "id": "uchE82sc0m2o"
      },
      "source": [
        "## 100trillionUSD"
      ]
    },
    {
      "cell_type": "code",
      "metadata": {
        "colab": {
          "base_uri": "https://localhost:8080/",
          "height": 1000
        },
        "id": "V1cz2JAT0sSL",
        "outputId": "33a066ca-c9a5-4f0e-e8f3-60b7c0cc17cd"
      },
      "source": [
        "df_100trilionUSD = pd.read_csv(\"/content/drive/MyDrive/DI - Analise Bitcoin - GPU/4. Execução/0. Dados Coletados/100trillionUSD.csv\")\n",
        "df_100trilionUSD"
      ],
      "execution_count": null,
      "outputs": [
        {
          "data": {
            "text/html": [
              "<div>\n",
              "<style scoped>\n",
              "    .dataframe tbody tr th:only-of-type {\n",
              "        vertical-align: middle;\n",
              "    }\n",
              "\n",
              "    .dataframe tbody tr th {\n",
              "        vertical-align: top;\n",
              "    }\n",
              "\n",
              "    .dataframe thead th {\n",
              "        text-align: right;\n",
              "    }\n",
              "</style>\n",
              "<table border=\"1\" class=\"dataframe\">\n",
              "  <thead>\n",
              "    <tr style=\"text-align: right;\">\n",
              "      <th></th>\n",
              "      <th>Field1</th>\n",
              "      <th>Text</th>\n",
              "      <th>Text1</th>\n",
              "      <th>Text2</th>\n",
              "    </tr>\n",
              "  </thead>\n",
              "  <tbody>\n",
              "    <tr>\n",
              "      <th>0</th>\n",
              "      <td>PlanB\\n@100trillionUSD\\n·\\n3 de out\\nDo you th...</td>\n",
              "      <td>Do you think #bitcoin will reach $500K, $288K ...</td>\n",
              "      <td>@100trillionUSD</td>\n",
              "      <td>3 de out</td>\n",
              "    </tr>\n",
              "    <tr>\n",
              "      <th>1</th>\n",
              "      <td>PlanB\\n@100trillionUSD\\n·\\n11 de set\\nDo you t...</td>\n",
              "      <td>Do you think #bitcoin will reach $500K, $288K ...</td>\n",
              "      <td>@100trillionUSD</td>\n",
              "      <td>11 de set</td>\n",
              "    </tr>\n",
              "    <tr>\n",
              "      <th>2</th>\n",
              "      <td>PlanB\\n@100trillionUSD\\n·\\n7 de set\\n43k\\n979\\...</td>\n",
              "      <td>43k</td>\n",
              "      <td>@100trillionUSD</td>\n",
              "      <td>7 de set</td>\n",
              "    </tr>\n",
              "    <tr>\n",
              "      <th>3</th>\n",
              "      <td>PlanB\\n@100trillionUSD\\n·\\n15 de ago\\nDo you t...</td>\n",
              "      <td>Do you think #bitcoin will reach $500K, $288K ...</td>\n",
              "      <td>@100trillionUSD</td>\n",
              "      <td>15 de ago</td>\n",
              "    </tr>\n",
              "    <tr>\n",
              "      <th>4</th>\n",
              "      <td>PlanB\\n@100trillionUSD\\n·\\n1 de jul\\nSo was $6...</td>\n",
              "      <td>So was $64K the top for this cycle (halving 20...</td>\n",
              "      <td>@100trillionUSD</td>\n",
              "      <td>1 de jul</td>\n",
              "    </tr>\n",
              "    <tr>\n",
              "      <th>5</th>\n",
              "      <td>PlanB\\n@100trillionUSD\\n·\\n21 de jun\\nDo you t...</td>\n",
              "      <td>Do you think #bitcoin will reach $500K, $288K ...</td>\n",
              "      <td>@100trillionUSD</td>\n",
              "      <td>21 de jun</td>\n",
              "    </tr>\n",
              "    <tr>\n",
              "      <th>6</th>\n",
              "      <td>PlanB\\n@100trillionUSD\\n·\\n17 de mai\\nSo .. wi...</td>\n",
              "      <td>So .. with \\n@elonmusk\\n aiming to destroy #bi...</td>\n",
              "      <td>@100trillionUSD</td>\n",
              "      <td>17 de mai</td>\n",
              "    </tr>\n",
              "    <tr>\n",
              "      <th>7</th>\n",
              "      <td>PlanB\\n@100trillionUSD\\n·\\n7 de mai\\nYou never...</td>\n",
              "      <td>You never see a #bitcoin airdrop, giveaway sca...</td>\n",
              "      <td>@100trillionUSD</td>\n",
              "      <td>7 de mai</td>\n",
              "    </tr>\n",
              "    <tr>\n",
              "      <th>8</th>\n",
              "      <td>PlanB\\n@100trillionUSD\\n·\\n16 de abr\\nPlease r...</td>\n",
              "      <td>Please report these impersonators \\n@100trilli...</td>\n",
              "      <td>@100trillionUSD</td>\n",
              "      <td>16 de abr</td>\n",
              "    </tr>\n",
              "    <tr>\n",
              "      <th>9</th>\n",
              "      <td>PlanB\\n@100trillionUSD\\n·\\n28 de mar\\nWould yo...</td>\n",
              "      <td>Would you rather have volatile money that incr...</td>\n",
              "      <td>@100trillionUSD</td>\n",
              "      <td>28 de mar</td>\n",
              "    </tr>\n",
              "    <tr>\n",
              "      <th>10</th>\n",
              "      <td>PlanB\\n@100trillionUSD\\n·\\n24 de mar\\nDo you t...</td>\n",
              "      <td>Do you think #bitcoin will reach $500K, $288K ...</td>\n",
              "      <td>@100trillionUSD</td>\n",
              "      <td>24 de mar</td>\n",
              "    </tr>\n",
              "    <tr>\n",
              "      <th>11</th>\n",
              "      <td>PlanB\\n@100trillionUSD\\n·\\n21 de mar\\nSilver: ...</td>\n",
              "      <td>Silver: stock-to-flow ~30 and market cap ~$1tr...</td>\n",
              "      <td>@100trillionUSD</td>\n",
              "      <td>21 de mar</td>\n",
              "    </tr>\n",
              "    <tr>\n",
              "      <th>12</th>\n",
              "      <td>PlanB\\n@100trillionUSD\\n·\\n5 de mar\\n#bitcoin ...</td>\n",
              "      <td>#bitcoin went from $10K in Oct to $50K in Feb....</td>\n",
              "      <td>@100trillionUSD</td>\n",
              "      <td>5 de mar</td>\n",
              "    </tr>\n",
              "    <tr>\n",
              "      <th>13</th>\n",
              "      <td>PlanB\\n@100trillionUSD\\n·\\n4 de mar\\n24/7 #bit...</td>\n",
              "      <td>24/7 #bitcoin! I will be focusing on investing...</td>\n",
              "      <td>@100trillionUSD</td>\n",
              "      <td>4 de mar</td>\n",
              "    </tr>\n",
              "    <tr>\n",
              "      <th>14</th>\n",
              "      <td>PlanB\\n@100trillionUSD\\n·\\n26 de fev\\nDo you t...</td>\n",
              "      <td>Do you think #bitcoin will reach $500K, $288K ...</td>\n",
              "      <td>@100trillionUSD</td>\n",
              "      <td>26 de fev</td>\n",
              "    </tr>\n",
              "    <tr>\n",
              "      <th>15</th>\n",
              "      <td>PlanB\\n@100trillionUSD\\n·\\n14 de fev\\nDo you t...</td>\n",
              "      <td>Do you think #bitcoin will reach $288K (S2FX m...</td>\n",
              "      <td>@100trillionUSD</td>\n",
              "      <td>14 de fev</td>\n",
              "    </tr>\n",
              "    <tr>\n",
              "      <th>16</th>\n",
              "      <td>PlanB\\n@100trillionUSD\\n·\\n28 de jan\\nDo you t...</td>\n",
              "      <td>Do you think #bitcoin will reach $288K (S2FX m...</td>\n",
              "      <td>@100trillionUSD</td>\n",
              "      <td>28 de jan</td>\n",
              "    </tr>\n",
              "    <tr>\n",
              "      <th>17</th>\n",
              "      <td>PlanB\\n@100trillionUSD\\n·\\n22 de jan\\nSo in 1 ...</td>\n",
              "      <td>So in 1 month we had:\\n Mnuchin regulatory sca...</td>\n",
              "      <td>@100trillionUSD</td>\n",
              "      <td>22 de jan</td>\n",
              "    </tr>\n",
              "    <tr>\n",
              "      <th>18</th>\n",
              "      <td>PlanB\\n@100trillionUSD\\n·\\n27 de dez de 2020\\n...</td>\n",
              "      <td>Do you think #bitcoin will reach $288K (S2FX m...</td>\n",
              "      <td>@100trillionUSD</td>\n",
              "      <td>27 de dez de 2020</td>\n",
              "    </tr>\n",
              "    <tr>\n",
              "      <th>19</th>\n",
              "      <td>PlanB\\n@100trillionUSD\\n·\\n7 de dez de 2020\\n1...</td>\n",
              "      <td>1/2 What is the biggest risk for #bitcoin?\\n\\n...</td>\n",
              "      <td>@100trillionUSD</td>\n",
              "      <td>7 de dez de 2020</td>\n",
              "    </tr>\n",
              "    <tr>\n",
              "      <th>20</th>\n",
              "      <td>PlanB\\n@100trillionUSD\\n·\\n3 de dez de 2020\\nD...</td>\n",
              "      <td>Do you think #bitcoin will reach $288K (S2FX m...</td>\n",
              "      <td>@100trillionUSD</td>\n",
              "      <td>3 de dez de 2020</td>\n",
              "    </tr>\n",
              "    <tr>\n",
              "      <th>21</th>\n",
              "      <td>PlanB\\n@100trillionUSD\\n·\\n5 de nov de 2020\\nD...</td>\n",
              "      <td>Do you think #bitcoin will reach $288K (S2FX m...</td>\n",
              "      <td>@100trillionUSD</td>\n",
              "      <td>5 de nov de 2020</td>\n",
              "    </tr>\n",
              "    <tr>\n",
              "      <th>22</th>\n",
              "      <td>PlanB\\n@100trillionUSD\\n·\\n21 de out de 2020\\n...</td>\n",
              "      <td>Do you think #bitcoin will reach $288K (S2FX),...</td>\n",
              "      <td>@100trillionUSD</td>\n",
              "      <td>21 de out de 2020</td>\n",
              "    </tr>\n",
              "    <tr>\n",
              "      <th>23</th>\n",
              "      <td>PlanB\\n@100trillionUSD\\n·\\n6 de out de 2020\\nT...</td>\n",
              "      <td>True or false?\\n\\n1. \"The predictive power of ...</td>\n",
              "      <td>@100trillionUSD</td>\n",
              "      <td>6 de out de 2020</td>\n",
              "    </tr>\n",
              "    <tr>\n",
              "      <th>24</th>\n",
              "      <td>PlanB\\n@100trillionUSD\\n·\\n25 de set de 2020\\n...</td>\n",
              "      <td>Do you think #bitcoin will reach $288K (S2FX),...</td>\n",
              "      <td>@100trillionUSD</td>\n",
              "      <td>25 de set de 2020</td>\n",
              "    </tr>\n",
              "    <tr>\n",
              "      <th>25</th>\n",
              "      <td>PlanB\\n@100trillionUSD\\n·\\n22 de set de 2020\\n...</td>\n",
              "      <td>Are you:\\n- bitcoin or crypto? \\n- bullish or ...</td>\n",
              "      <td>@100trillionUSD</td>\n",
              "      <td>22 de set de 2020</td>\n",
              "    </tr>\n",
              "    <tr>\n",
              "      <th>26</th>\n",
              "      <td>PlanB\\n@100trillionUSD\\n·\\n9 de set de 2020\\nJ...</td>\n",
              "      <td>Just curious! Are you working in finance / inv...</td>\n",
              "      <td>@100trillionUSD</td>\n",
              "      <td>9 de set de 2020</td>\n",
              "    </tr>\n",
              "    <tr>\n",
              "      <th>27</th>\n",
              "      <td>PlanB\\n@100trillionUSD\\n·\\n30 de ago de 2020\\n...</td>\n",
              "      <td>What is the biggest risk to #Bitcoin next 2 ye...</td>\n",
              "      <td>@100trillionUSD</td>\n",
              "      <td>30 de ago de 2020</td>\n",
              "    </tr>\n",
              "    <tr>\n",
              "      <th>28</th>\n",
              "      <td>PlanB\\n@100trillionUSD\\n·\\n15 de ago de 2020\\n...</td>\n",
              "      <td>You are probably bullish on #bitcoin but what ...</td>\n",
              "      <td>@100trillionUSD</td>\n",
              "      <td>15 de ago de 2020</td>\n",
              "    </tr>\n",
              "    <tr>\n",
              "      <th>29</th>\n",
              "      <td>PlanB\\n@100trillionUSD\\n·\\n9 de ago de 2020\\nD...</td>\n",
              "      <td>Do you think #bitcoin will reach $288K (S2FX),...</td>\n",
              "      <td>@100trillionUSD</td>\n",
              "      <td>9 de ago de 2020</td>\n",
              "    </tr>\n",
              "    <tr>\n",
              "      <th>30</th>\n",
              "      <td>PlanB\\n@100trillionUSD\\n·\\n14 de jul de 2020\\n...</td>\n",
              "      <td>This quiz is for Gold HODLers. How much higher...</td>\n",
              "      <td>@100trillionUSD</td>\n",
              "      <td>14 de jul de 2020</td>\n",
              "    </tr>\n",
              "    <tr>\n",
              "      <th>31</th>\n",
              "      <td>PlanB\\n@100trillionUSD\\n·\\n13 de jul de 2020\\n...</td>\n",
              "      <td>Do you think #bitcoin price will be above last...</td>\n",
              "      <td>@100trillionUSD</td>\n",
              "      <td>13 de jul de 2020</td>\n",
              "    </tr>\n",
              "    <tr>\n",
              "      <th>32</th>\n",
              "      <td>PlanB\\n@100trillionUSD\\n·\\n3 de jul de 2020\\nD...</td>\n",
              "      <td>Do you think #bitcoin will reach $288K (S2FX),...</td>\n",
              "      <td>@100trillionUSD</td>\n",
              "      <td>3 de jul de 2020</td>\n",
              "    </tr>\n",
              "    <tr>\n",
              "      <th>33</th>\n",
              "      <td>PlanB\\n@100trillionUSD\\n·\\n18 de jun de 2020\\n...</td>\n",
              "      <td>What do you think US stock markets will be doi...</td>\n",
              "      <td>@100trillionUSD</td>\n",
              "      <td>18 de jun de 2020</td>\n",
              "    </tr>\n",
              "    <tr>\n",
              "      <th>34</th>\n",
              "      <td>PlanB\\n@100trillionUSD\\n·\\n16 de jun de 2020\\n...</td>\n",
              "      <td>So with the +15% difficulty adjustment in 1 ho...</td>\n",
              "      <td>@100trillionUSD</td>\n",
              "      <td>16 de jun de 2020</td>\n",
              "    </tr>\n",
              "    <tr>\n",
              "      <th>35</th>\n",
              "      <td>PlanB\\n@100trillionUSD\\n·\\n19 de mai de 2020\\n...</td>\n",
              "      <td>What do you think #bitcoin difficulty (16E12) ...</td>\n",
              "      <td>@100trillionUSD</td>\n",
              "      <td>19 de mai de 2020</td>\n",
              "    </tr>\n",
              "    <tr>\n",
              "      <th>36</th>\n",
              "      <td>PlanB\\n@100trillionUSD\\n·\\n21 de abr de 2020\\n...</td>\n",
              "      <td>What do YOU use #bitcoin for?</td>\n",
              "      <td>@100trillionUSD</td>\n",
              "      <td>21 de abr de 2020</td>\n",
              "    </tr>\n",
              "    <tr>\n",
              "      <th>37</th>\n",
              "      <td>PlanB\\n@100trillionUSD\\n·\\n15 de abr de 2020\\n...</td>\n",
              "      <td>What is the biggest risk for bitcoin next 12 m...</td>\n",
              "      <td>@100trillionUSD</td>\n",
              "      <td>15 de abr de 2020</td>\n",
              "    </tr>\n",
              "    <tr>\n",
              "      <th>38</th>\n",
              "      <td>PlanB\\n@100trillionUSD\\n·\\n11 de abr de 2020\\n...</td>\n",
              "      <td>Question for US followers: Will you buy #bitco...</td>\n",
              "      <td>@100trillionUSD</td>\n",
              "      <td>11 de abr de 2020</td>\n",
              "    </tr>\n",
              "    <tr>\n",
              "      <th>39</th>\n",
              "      <td>PlanB\\n@100trillionUSD\\n·\\n29 de mar de 2020\\n...</td>\n",
              "      <td>#Bitcoin S2F article anniversary\\nArabic\\nArme...</td>\n",
              "      <td>@100trillionUSD</td>\n",
              "      <td>29 de mar de 2020</td>\n",
              "    </tr>\n",
              "    <tr>\n",
              "      <th>40</th>\n",
              "      <td>PlanB\\n@100trillionUSD\\n·\\n26 de mar de 2020\\n...</td>\n",
              "      <td>I need your help. To keep this twitter account...</td>\n",
              "      <td>@100trillionUSD</td>\n",
              "      <td>26 de mar de 2020</td>\n",
              "    </tr>\n",
              "    <tr>\n",
              "      <th>41</th>\n",
              "      <td>PlanB\\n@100trillionUSD\\n·\\n23 de mar de 2020\\n...</td>\n",
              "      <td>If governments close free markets and thus for...</td>\n",
              "      <td>@100trillionUSD</td>\n",
              "      <td>23 de mar de 2020</td>\n",
              "    </tr>\n",
              "    <tr>\n",
              "      <th>42</th>\n",
              "      <td>PlanB\\n@100trillionUSD\\n·\\n18 de fev de 2020\\n...</td>\n",
              "      <td>What concerns you most?</td>\n",
              "      <td>@100trillionUSD</td>\n",
              "      <td>18 de fev de 2020</td>\n",
              "    </tr>\n",
              "    <tr>\n",
              "      <th>43</th>\n",
              "      <td>PlanB\\n@100trillionUSD\\n·\\n22 de jan de 2020\\n...</td>\n",
              "      <td>Do you think May 2020 #bitcoin halving of mine...</td>\n",
              "      <td>@100trillionUSD</td>\n",
              "      <td>22 de jan de 2020</td>\n",
              "    </tr>\n",
              "    <tr>\n",
              "      <th>44</th>\n",
              "      <td>PlanB\\n@100trillionUSD\\n·\\n13 de out de 2019\\n...</td>\n",
              "      <td>I get a lot of questions (about: 1. setting up...</td>\n",
              "      <td>@100trillionUSD</td>\n",
              "      <td>13 de out de 2019</td>\n",
              "    </tr>\n",
              "    <tr>\n",
              "      <th>45</th>\n",
              "      <td>PlanB\\n@100trillionUSD\\n·\\n10 de out de 2019\\n...</td>\n",
              "      <td>Forget about #bitcoin mainstream adopotion\\n\\n...</td>\n",
              "      <td>@100trillionUSD</td>\n",
              "      <td>10 de out de 2019</td>\n",
              "    </tr>\n",
              "    <tr>\n",
              "      <th>46</th>\n",
              "      <td>PlanB\\n@100trillionUSD\\n·\\n3 de out de 2019\\n#...</td>\n",
              "      <td>#bitcoin stock-to-flow model predicts $100k be...</td>\n",
              "      <td>@100trillionUSD</td>\n",
              "      <td>3 de out de 2019</td>\n",
              "    </tr>\n",
              "    <tr>\n",
              "      <th>47</th>\n",
              "      <td>PlanB\\n@100trillionUSD\\n·\\n11 de set de 2019\\n...</td>\n",
              "      <td>Mon 23 Sep ICE/Bakkt will start trading physic...</td>\n",
              "      <td>@100trillionUSD</td>\n",
              "      <td>11 de set de 2019</td>\n",
              "    </tr>\n",
              "    <tr>\n",
              "      <th>48</th>\n",
              "      <td>PlanB\\n@100trillionUSD\\n·\\n11 de set de 2019\\n...</td>\n",
              "      <td>7 business days until ... Intercontinental Exc...</td>\n",
              "      <td>@100trillionUSD</td>\n",
              "      <td>11 de set de 2019</td>\n",
              "    </tr>\n",
              "    <tr>\n",
              "      <th>49</th>\n",
              "      <td>PlanB\\n@100trillionUSD\\n·\\n5 de set de 2019\\nO...</td>\n",
              "      <td>On Sept 6 Bakkt Warehouse will begin offering ...</td>\n",
              "      <td>@100trillionUSD</td>\n",
              "      <td>5 de set de 2019</td>\n",
              "    </tr>\n",
              "    <tr>\n",
              "      <th>50</th>\n",
              "      <td>PlanB\\n@100trillionUSD\\n·\\n20 de mai de 2019\\n...</td>\n",
              "      <td>How will markets react to #bitcoin 2020 halving?</td>\n",
              "      <td>@100trillionUSD</td>\n",
              "      <td>20 de mai de 2019</td>\n",
              "    </tr>\n",
              "    <tr>\n",
              "      <th>51</th>\n",
              "      <td>PlanB\\n@100trillionUSD\\n·\\n13 de mai de 2019\\n...</td>\n",
              "      <td>What is your view on #bitcoin price?</td>\n",
              "      <td>@100trillionUSD</td>\n",
              "      <td>13 de mai de 2019</td>\n",
              "    </tr>\n",
              "    <tr>\n",
              "      <th>52</th>\n",
              "      <td>PlanB\\n@100trillionUSD\\n·\\n3 de mai de 2019\\nW...</td>\n",
              "      <td>What risk would you rather take?\\n1) Investing...</td>\n",
              "      <td>@100trillionUSD</td>\n",
              "      <td>3 de mai de 2019</td>\n",
              "    </tr>\n",
              "    <tr>\n",
              "      <th>53</th>\n",
              "      <td>PlanB\\n@100trillionUSD\\n·\\n2 de abr de 2019\\n#...</td>\n",
              "      <td>#bitcoin</td>\n",
              "      <td>@100trillionUSD</td>\n",
              "      <td>2 de abr de 2019</td>\n",
              "    </tr>\n",
              "    <tr>\n",
              "      <th>54</th>\n",
              "      <td>PlanB\\n@100trillionUSD\\n·\\n12 de mar de 2019\\n...</td>\n",
              "      <td>84% thinks next #bitcoin halving will impact b...</td>\n",
              "      <td>@100trillionUSD</td>\n",
              "      <td>12 de mar de 2019</td>\n",
              "    </tr>\n",
              "    <tr>\n",
              "      <th>55</th>\n",
              "      <td>PlanB\\n@100trillionUSD\\n·\\n11 de mar de 2019\\n...</td>\n",
              "      <td>Next bitcoin halving (May 2020):</td>\n",
              "      <td>@100trillionUSD</td>\n",
              "      <td>11 de mar de 2019</td>\n",
              "    </tr>\n",
              "    <tr>\n",
              "      <th>56</th>\n",
              "      <td>PlanB\\n@100trillionUSD\\n·\\n9 de fev de 2019\\nB...</td>\n",
              "      <td>Bitcoin + Lightning Network = fully collateral...</td>\n",
              "      <td>@100trillionUSD</td>\n",
              "      <td>9 de fev de 2019</td>\n",
              "    </tr>\n",
              "    <tr>\n",
              "      <th>57</th>\n",
              "      <td>PlanB\\n@100trillionUSD\\n·\\n7 de fev de 2019\\n#...</td>\n",
              "      <td>#bitcoin could flash crash to $2400 or see a b...</td>\n",
              "      <td>@100trillionUSD</td>\n",
              "      <td>7 de fev de 2019</td>\n",
              "    </tr>\n",
              "    <tr>\n",
              "      <th>58</th>\n",
              "      <td>PlanB\\n@100trillionUSD\\n·\\n5 de fev de 2019\\nB...</td>\n",
              "      <td>Bitcoin/BTC halving is May 2020.\\nLitecoin/LTC...</td>\n",
              "      <td>@100trillionUSD</td>\n",
              "      <td>5 de fev de 2019</td>\n",
              "    </tr>\n",
              "    <tr>\n",
              "      <th>59</th>\n",
              "      <td>PlanB\\n@100trillionUSD\\n·\\n24 de jan de 2019\\n...</td>\n",
              "      <td>#bitcoin hashrate follows price, or price foll...</td>\n",
              "      <td>@100trillionUSD</td>\n",
              "      <td>24 de jan de 2019</td>\n",
              "    </tr>\n",
              "    <tr>\n",
              "      <th>60</th>\n",
              "      <td>PlanB\\n@100trillionUSD\\n·\\n13 de jan de 2019\\n...</td>\n",
              "      <td>What is your advice to friends &amp; family who wa...</td>\n",
              "      <td>@100trillionUSD</td>\n",
              "      <td>13 de jan de 2019</td>\n",
              "    </tr>\n",
              "    <tr>\n",
              "      <th>61</th>\n",
              "      <td>PlanB\\n@100trillionUSD\\n·\\n22 de dez de 2018\\n...</td>\n",
              "      <td>#bitcoin difficulty is 5,106,422,924,659\\n\\nWh...</td>\n",
              "      <td>@100trillionUSD</td>\n",
              "      <td>22 de dez de 2018</td>\n",
              "    </tr>\n",
              "    <tr>\n",
              "      <th>62</th>\n",
              "      <td>PlanB\\n@100trillionUSD\\n·\\n28 de jan de 2019\\n...</td>\n",
              "      <td>Buying altcoins (ripple, ethereum, bcash etc) ...</td>\n",
              "      <td>@100trillionUSD</td>\n",
              "      <td>28 de jan de 2019</td>\n",
              "    </tr>\n",
              "  </tbody>\n",
              "</table>\n",
              "</div>"
            ],
            "text/plain": [
              "                                               Field1  ...              Text2\n",
              "0   PlanB\\n@100trillionUSD\\n·\\n3 de out\\nDo you th...  ...           3 de out\n",
              "1   PlanB\\n@100trillionUSD\\n·\\n11 de set\\nDo you t...  ...          11 de set\n",
              "2   PlanB\\n@100trillionUSD\\n·\\n7 de set\\n43k\\n979\\...  ...           7 de set\n",
              "3   PlanB\\n@100trillionUSD\\n·\\n15 de ago\\nDo you t...  ...          15 de ago\n",
              "4   PlanB\\n@100trillionUSD\\n·\\n1 de jul\\nSo was $6...  ...           1 de jul\n",
              "5   PlanB\\n@100trillionUSD\\n·\\n21 de jun\\nDo you t...  ...          21 de jun\n",
              "6   PlanB\\n@100trillionUSD\\n·\\n17 de mai\\nSo .. wi...  ...          17 de mai\n",
              "7   PlanB\\n@100trillionUSD\\n·\\n7 de mai\\nYou never...  ...           7 de mai\n",
              "8   PlanB\\n@100trillionUSD\\n·\\n16 de abr\\nPlease r...  ...          16 de abr\n",
              "9   PlanB\\n@100trillionUSD\\n·\\n28 de mar\\nWould yo...  ...          28 de mar\n",
              "10  PlanB\\n@100trillionUSD\\n·\\n24 de mar\\nDo you t...  ...          24 de mar\n",
              "11  PlanB\\n@100trillionUSD\\n·\\n21 de mar\\nSilver: ...  ...          21 de mar\n",
              "12  PlanB\\n@100trillionUSD\\n·\\n5 de mar\\n#bitcoin ...  ...           5 de mar\n",
              "13  PlanB\\n@100trillionUSD\\n·\\n4 de mar\\n24/7 #bit...  ...           4 de mar\n",
              "14  PlanB\\n@100trillionUSD\\n·\\n26 de fev\\nDo you t...  ...          26 de fev\n",
              "15  PlanB\\n@100trillionUSD\\n·\\n14 de fev\\nDo you t...  ...          14 de fev\n",
              "16  PlanB\\n@100trillionUSD\\n·\\n28 de jan\\nDo you t...  ...          28 de jan\n",
              "17  PlanB\\n@100trillionUSD\\n·\\n22 de jan\\nSo in 1 ...  ...          22 de jan\n",
              "18  PlanB\\n@100trillionUSD\\n·\\n27 de dez de 2020\\n...  ...  27 de dez de 2020\n",
              "19  PlanB\\n@100trillionUSD\\n·\\n7 de dez de 2020\\n1...  ...   7 de dez de 2020\n",
              "20  PlanB\\n@100trillionUSD\\n·\\n3 de dez de 2020\\nD...  ...   3 de dez de 2020\n",
              "21  PlanB\\n@100trillionUSD\\n·\\n5 de nov de 2020\\nD...  ...   5 de nov de 2020\n",
              "22  PlanB\\n@100trillionUSD\\n·\\n21 de out de 2020\\n...  ...  21 de out de 2020\n",
              "23  PlanB\\n@100trillionUSD\\n·\\n6 de out de 2020\\nT...  ...   6 de out de 2020\n",
              "24  PlanB\\n@100trillionUSD\\n·\\n25 de set de 2020\\n...  ...  25 de set de 2020\n",
              "25  PlanB\\n@100trillionUSD\\n·\\n22 de set de 2020\\n...  ...  22 de set de 2020\n",
              "26  PlanB\\n@100trillionUSD\\n·\\n9 de set de 2020\\nJ...  ...   9 de set de 2020\n",
              "27  PlanB\\n@100trillionUSD\\n·\\n30 de ago de 2020\\n...  ...  30 de ago de 2020\n",
              "28  PlanB\\n@100trillionUSD\\n·\\n15 de ago de 2020\\n...  ...  15 de ago de 2020\n",
              "29  PlanB\\n@100trillionUSD\\n·\\n9 de ago de 2020\\nD...  ...   9 de ago de 2020\n",
              "30  PlanB\\n@100trillionUSD\\n·\\n14 de jul de 2020\\n...  ...  14 de jul de 2020\n",
              "31  PlanB\\n@100trillionUSD\\n·\\n13 de jul de 2020\\n...  ...  13 de jul de 2020\n",
              "32  PlanB\\n@100trillionUSD\\n·\\n3 de jul de 2020\\nD...  ...   3 de jul de 2020\n",
              "33  PlanB\\n@100trillionUSD\\n·\\n18 de jun de 2020\\n...  ...  18 de jun de 2020\n",
              "34  PlanB\\n@100trillionUSD\\n·\\n16 de jun de 2020\\n...  ...  16 de jun de 2020\n",
              "35  PlanB\\n@100trillionUSD\\n·\\n19 de mai de 2020\\n...  ...  19 de mai de 2020\n",
              "36  PlanB\\n@100trillionUSD\\n·\\n21 de abr de 2020\\n...  ...  21 de abr de 2020\n",
              "37  PlanB\\n@100trillionUSD\\n·\\n15 de abr de 2020\\n...  ...  15 de abr de 2020\n",
              "38  PlanB\\n@100trillionUSD\\n·\\n11 de abr de 2020\\n...  ...  11 de abr de 2020\n",
              "39  PlanB\\n@100trillionUSD\\n·\\n29 de mar de 2020\\n...  ...  29 de mar de 2020\n",
              "40  PlanB\\n@100trillionUSD\\n·\\n26 de mar de 2020\\n...  ...  26 de mar de 2020\n",
              "41  PlanB\\n@100trillionUSD\\n·\\n23 de mar de 2020\\n...  ...  23 de mar de 2020\n",
              "42  PlanB\\n@100trillionUSD\\n·\\n18 de fev de 2020\\n...  ...  18 de fev de 2020\n",
              "43  PlanB\\n@100trillionUSD\\n·\\n22 de jan de 2020\\n...  ...  22 de jan de 2020\n",
              "44  PlanB\\n@100trillionUSD\\n·\\n13 de out de 2019\\n...  ...  13 de out de 2019\n",
              "45  PlanB\\n@100trillionUSD\\n·\\n10 de out de 2019\\n...  ...  10 de out de 2019\n",
              "46  PlanB\\n@100trillionUSD\\n·\\n3 de out de 2019\\n#...  ...   3 de out de 2019\n",
              "47  PlanB\\n@100trillionUSD\\n·\\n11 de set de 2019\\n...  ...  11 de set de 2019\n",
              "48  PlanB\\n@100trillionUSD\\n·\\n11 de set de 2019\\n...  ...  11 de set de 2019\n",
              "49  PlanB\\n@100trillionUSD\\n·\\n5 de set de 2019\\nO...  ...   5 de set de 2019\n",
              "50  PlanB\\n@100trillionUSD\\n·\\n20 de mai de 2019\\n...  ...  20 de mai de 2019\n",
              "51  PlanB\\n@100trillionUSD\\n·\\n13 de mai de 2019\\n...  ...  13 de mai de 2019\n",
              "52  PlanB\\n@100trillionUSD\\n·\\n3 de mai de 2019\\nW...  ...   3 de mai de 2019\n",
              "53  PlanB\\n@100trillionUSD\\n·\\n2 de abr de 2019\\n#...  ...   2 de abr de 2019\n",
              "54  PlanB\\n@100trillionUSD\\n·\\n12 de mar de 2019\\n...  ...  12 de mar de 2019\n",
              "55  PlanB\\n@100trillionUSD\\n·\\n11 de mar de 2019\\n...  ...  11 de mar de 2019\n",
              "56  PlanB\\n@100trillionUSD\\n·\\n9 de fev de 2019\\nB...  ...   9 de fev de 2019\n",
              "57  PlanB\\n@100trillionUSD\\n·\\n7 de fev de 2019\\n#...  ...   7 de fev de 2019\n",
              "58  PlanB\\n@100trillionUSD\\n·\\n5 de fev de 2019\\nB...  ...   5 de fev de 2019\n",
              "59  PlanB\\n@100trillionUSD\\n·\\n24 de jan de 2019\\n...  ...  24 de jan de 2019\n",
              "60  PlanB\\n@100trillionUSD\\n·\\n13 de jan de 2019\\n...  ...  13 de jan de 2019\n",
              "61  PlanB\\n@100trillionUSD\\n·\\n22 de dez de 2018\\n...  ...  22 de dez de 2018\n",
              "62  PlanB\\n@100trillionUSD\\n·\\n28 de jan de 2019\\n...  ...  28 de jan de 2019\n",
              "\n",
              "[63 rows x 4 columns]"
            ]
          },
          "execution_count": 196,
          "metadata": {},
          "output_type": "execute_result"
        }
      ]
    },
    {
      "cell_type": "markdown",
      "metadata": {
        "id": "UwMYFmr5001y"
      },
      "source": [
        "## APopmpliano"
      ]
    },
    {
      "cell_type": "code",
      "metadata": {
        "colab": {
          "base_uri": "https://localhost:8080/",
          "height": 0
        },
        "id": "NJFBfMQe4Qrh",
        "outputId": "31878139-ca5e-4a71-fd3a-7a3b9df1bcda"
      },
      "source": [
        "df_Apompliano = pd.read_csv(\"/content/drive/MyDrive/DI - Analise Bitcoin - GPU/4. Execução/0. Dados Coletados/APompliano.csv\")\n",
        "\n",
        "df_Apompliano.replace(['10 min', '19 min', '24 min', '2 h', '3 h', '4 h', '13 h', '13 h', '13 h'], ['14 de out', '14 de out', '14 de out', '14 de out', '14 de out', '14 de out', '14 de out', '14 de out', '14 de out'], inplace=True)\n",
        "df_Apompliano.head(20)"
      ],
      "execution_count": 246,
      "outputs": [
        {
          "output_type": "execute_result",
          "data": {
            "text/html": [
              "<div>\n",
              "<style scoped>\n",
              "    .dataframe tbody tr th:only-of-type {\n",
              "        vertical-align: middle;\n",
              "    }\n",
              "\n",
              "    .dataframe tbody tr th {\n",
              "        vertical-align: top;\n",
              "    }\n",
              "\n",
              "    .dataframe thead th {\n",
              "        text-align: right;\n",
              "    }\n",
              "</style>\n",
              "<table border=\"1\" class=\"dataframe\">\n",
              "  <thead>\n",
              "    <tr style=\"text-align: right;\">\n",
              "      <th></th>\n",
              "      <th>Field1</th>\n",
              "      <th>Text</th>\n",
              "      <th>Text1</th>\n",
              "      <th>Text2</th>\n",
              "    </tr>\n",
              "  </thead>\n",
              "  <tbody>\n",
              "    <tr>\n",
              "      <th>0</th>\n",
              "      <td>Pomp \\n@APompliano\\n·\\n10 min\\n$69,420 bitcoin...</td>\n",
              "      <td>$69,420 bitcoin price will break the internet.</td>\n",
              "      <td>@APompliano</td>\n",
              "      <td>14 de out</td>\n",
              "    </tr>\n",
              "    <tr>\n",
              "      <th>1</th>\n",
              "      <td>Pomp \\n@APompliano\\n·\\n19 min\\nTether has agre...</td>\n",
              "      <td>Tether has agreed to pay $41 million to settle...</td>\n",
              "      <td>@APompliano</td>\n",
              "      <td>14 de out</td>\n",
              "    </tr>\n",
              "    <tr>\n",
              "      <th>2</th>\n",
              "      <td>Pomp \\n@APompliano\\n·\\n24 min\\nThe Nasdaq has ...</td>\n",
              "      <td>The Nasdaq has approved the Valkyrie Bitcoin F...</td>\n",
              "      <td>@APompliano</td>\n",
              "      <td>14 de out</td>\n",
              "    </tr>\n",
              "    <tr>\n",
              "      <th>3</th>\n",
              "      <td>Pomp \\n@APompliano\\n·\\n2 h\\n$60,000\\n164\\n445\\...</td>\n",
              "      <td>$60,000</td>\n",
              "      <td>@APompliano</td>\n",
              "      <td>14 de out</td>\n",
              "    </tr>\n",
              "    <tr>\n",
              "      <th>4</th>\n",
              "      <td>Pomp \\n@APompliano\\n·\\n3 h\\nLearn how to do se...</td>\n",
              "      <td>Learn how to do self-custody. \\n\\nLearn how to...</td>\n",
              "      <td>@APompliano</td>\n",
              "      <td>14 de out</td>\n",
              "    </tr>\n",
              "    <tr>\n",
              "      <th>5</th>\n",
              "      <td>Pomp \\n@APompliano\\n·\\n4 h\\nMorning! You can f...</td>\n",
              "      <td>Morning! You can feel that Trillionaire Energy...</td>\n",
              "      <td>@APompliano</td>\n",
              "      <td>14 de out</td>\n",
              "    </tr>\n",
              "    <tr>\n",
              "      <th>6</th>\n",
              "      <td>Pomp \\n@APompliano\\n·\\n13 h\\nThe Bitcoin Futur...</td>\n",
              "      <td>The Bitcoin Futures ETF is going to hit the ma...</td>\n",
              "      <td>@APompliano</td>\n",
              "      <td>14 de out</td>\n",
              "    </tr>\n",
              "    <tr>\n",
              "      <th>7</th>\n",
              "      <td>Pomp \\n@APompliano\\n·\\n13 h\\nIn a stunning tur...</td>\n",
              "      <td>In a stunning turn of events, the bitcoin bear...</td>\n",
              "      <td>@APompliano</td>\n",
              "      <td>14 de out</td>\n",
              "    </tr>\n",
              "    <tr>\n",
              "      <th>8</th>\n",
              "      <td>Pomp \\n@APompliano\\n·\\n13 h\\nThey printed tril...</td>\n",
              "      <td>They printed trillions into the halving and no...</td>\n",
              "      <td>@APompliano</td>\n",
              "      <td>14 de out</td>\n",
              "    </tr>\n",
              "    <tr>\n",
              "      <th>9</th>\n",
              "      <td>Pomp \\n@APompliano\\n·\\n13 de out\\nBitcoin is n...</td>\n",
              "      <td>Bitcoin is now down less than 10% from its all...</td>\n",
              "      <td>@APompliano</td>\n",
              "      <td>13 de out</td>\n",
              "    </tr>\n",
              "    <tr>\n",
              "      <th>10</th>\n",
              "      <td>Pomp \\n@APompliano\\n·\\n13 de out\\nInflation ca...</td>\n",
              "      <td>Inflation came in at 5.4% for September, which...</td>\n",
              "      <td>@APompliano</td>\n",
              "      <td>13 de out</td>\n",
              "    </tr>\n",
              "    <tr>\n",
              "      <th>11</th>\n",
              "      <td>Pomp \\n@APompliano\\n·\\n13 de out\\nThe Governor...</td>\n",
              "      <td>The Governor of Texas has announced his intent...</td>\n",
              "      <td>@APompliano</td>\n",
              "      <td>13 de out</td>\n",
              "    </tr>\n",
              "    <tr>\n",
              "      <th>12</th>\n",
              "      <td>Pomp \\n@APompliano\\n·\\n13 de out\\nMore than 4....</td>\n",
              "      <td>More than 4.3 million people quit their jobs i...</td>\n",
              "      <td>@APompliano</td>\n",
              "      <td>13 de out</td>\n",
              "    </tr>\n",
              "    <tr>\n",
              "      <th>13</th>\n",
              "      <td>Pomp \\n@APompliano\\n·\\n13 de out\\nIf you had t...</td>\n",
              "      <td>If you had taken the first stimulus check of $...</td>\n",
              "      <td>@APompliano</td>\n",
              "      <td>13 de out</td>\n",
              "    </tr>\n",
              "    <tr>\n",
              "      <th>14</th>\n",
              "      <td>Pomp \\n@APompliano\\n·\\n13 de out\\nInflation wa...</td>\n",
              "      <td>Inflation was never transitory.</td>\n",
              "      <td>@APompliano</td>\n",
              "      <td>13 de out</td>\n",
              "    </tr>\n",
              "    <tr>\n",
              "      <th>15</th>\n",
              "      <td>Pomp \\n@APompliano\\n·\\n13 de out\\nSomeone tell...</td>\n",
              "      <td>Someone tell \\n@profplum99\\n that the United S...</td>\n",
              "      <td>@APompliano</td>\n",
              "      <td>13 de out</td>\n",
              "    </tr>\n",
              "    <tr>\n",
              "      <th>16</th>\n",
              "      <td>Pomp \\n@APompliano\\n·\\n13 de out\\nBlackRock CE...</td>\n",
              "      <td>BlackRock CEO Larry Fink just said “I see huge...</td>\n",
              "      <td>@APompliano</td>\n",
              "      <td>13 de out</td>\n",
              "    </tr>\n",
              "    <tr>\n",
              "      <th>17</th>\n",
              "      <td>Pomp \\n@APompliano\\n·\\n13 de out\\nGood morning...</td>\n",
              "      <td>Good morning! Let’s get after it relentlessly ...</td>\n",
              "      <td>@APompliano</td>\n",
              "      <td>13 de out</td>\n",
              "    </tr>\n",
              "    <tr>\n",
              "      <th>18</th>\n",
              "      <td>Pomp \\n@APompliano\\n·\\n12 de out\\nMorning! Let...</td>\n",
              "      <td>Morning! Let’s get after it relentlessly today</td>\n",
              "      <td>@APompliano</td>\n",
              "      <td>12 de out</td>\n",
              "    </tr>\n",
              "    <tr>\n",
              "      <th>19</th>\n",
              "      <td>Pomp \\n@APompliano\\n·\\n11 de out\\nIgnore the g...</td>\n",
              "      <td>Ignore the good ideas to focus on your great i...</td>\n",
              "      <td>@APompliano</td>\n",
              "      <td>11 de out</td>\n",
              "    </tr>\n",
              "  </tbody>\n",
              "</table>\n",
              "</div>"
            ],
            "text/plain": [
              "                                               Field1  ...      Text2\n",
              "0   Pomp \\n@APompliano\\n·\\n10 min\\n$69,420 bitcoin...  ...  14 de out\n",
              "1   Pomp \\n@APompliano\\n·\\n19 min\\nTether has agre...  ...  14 de out\n",
              "2   Pomp \\n@APompliano\\n·\\n24 min\\nThe Nasdaq has ...  ...  14 de out\n",
              "3   Pomp \\n@APompliano\\n·\\n2 h\\n$60,000\\n164\\n445\\...  ...  14 de out\n",
              "4   Pomp \\n@APompliano\\n·\\n3 h\\nLearn how to do se...  ...  14 de out\n",
              "5   Pomp \\n@APompliano\\n·\\n4 h\\nMorning! You can f...  ...  14 de out\n",
              "6   Pomp \\n@APompliano\\n·\\n13 h\\nThe Bitcoin Futur...  ...  14 de out\n",
              "7   Pomp \\n@APompliano\\n·\\n13 h\\nIn a stunning tur...  ...  14 de out\n",
              "8   Pomp \\n@APompliano\\n·\\n13 h\\nThey printed tril...  ...  14 de out\n",
              "9   Pomp \\n@APompliano\\n·\\n13 de out\\nBitcoin is n...  ...  13 de out\n",
              "10  Pomp \\n@APompliano\\n·\\n13 de out\\nInflation ca...  ...  13 de out\n",
              "11  Pomp \\n@APompliano\\n·\\n13 de out\\nThe Governor...  ...  13 de out\n",
              "12  Pomp \\n@APompliano\\n·\\n13 de out\\nMore than 4....  ...  13 de out\n",
              "13  Pomp \\n@APompliano\\n·\\n13 de out\\nIf you had t...  ...  13 de out\n",
              "14  Pomp \\n@APompliano\\n·\\n13 de out\\nInflation wa...  ...  13 de out\n",
              "15  Pomp \\n@APompliano\\n·\\n13 de out\\nSomeone tell...  ...  13 de out\n",
              "16  Pomp \\n@APompliano\\n·\\n13 de out\\nBlackRock CE...  ...  13 de out\n",
              "17  Pomp \\n@APompliano\\n·\\n13 de out\\nGood morning...  ...  13 de out\n",
              "18  Pomp \\n@APompliano\\n·\\n12 de out\\nMorning! Let...  ...  12 de out\n",
              "19  Pomp \\n@APompliano\\n·\\n11 de out\\nIgnore the g...  ...  11 de out\n",
              "\n",
              "[20 rows x 4 columns]"
            ]
          },
          "metadata": {},
          "execution_count": 246
        }
      ]
    },
    {
      "cell_type": "markdown",
      "metadata": {
        "id": "CHzm2Ibb04-Q"
      },
      "source": [
        "## BVBTC"
      ]
    },
    {
      "cell_type": "code",
      "metadata": {
        "id": "BCBbbL124RSh",
        "colab": {
          "base_uri": "https://localhost:8080/",
          "height": 665
        },
        "outputId": "27e95db7-f872-4c82-8148-6577907fbe73"
      },
      "source": [
        "df_BVBTC = pd.read_csv(\"/content/drive/MyDrive/DI - Analise Bitcoin - GPU/4. Execução/0. Dados Coletados/BVBTC.csv\")\n",
        "df_BVBTC.replace([\"6 h\"], ['18 de out'], inplace= True)\n",
        "df_BVBTC.head(20)"
      ],
      "execution_count": 248,
      "outputs": [
        {
          "output_type": "execute_result",
          "data": {
            "text/html": [
              "<div>\n",
              "<style scoped>\n",
              "    .dataframe tbody tr th:only-of-type {\n",
              "        vertical-align: middle;\n",
              "    }\n",
              "\n",
              "    .dataframe tbody tr th {\n",
              "        vertical-align: top;\n",
              "    }\n",
              "\n",
              "    .dataframe thead th {\n",
              "        text-align: right;\n",
              "    }\n",
              "</style>\n",
              "<table border=\"1\" class=\"dataframe\">\n",
              "  <thead>\n",
              "    <tr style=\"text-align: right;\">\n",
              "      <th></th>\n",
              "      <th>Field1</th>\n",
              "      <th>Text</th>\n",
              "      <th>Text1</th>\n",
              "      <th>Text2</th>\n",
              "    </tr>\n",
              "  </thead>\n",
              "  <tbody>\n",
              "    <tr>\n",
              "      <th>0</th>\n",
              "      <td>Brekkie von #BitcoinIsForEveryone\\n@BVBTC\\n·\\n...</td>\n",
              "      <td>$62K is the new $200.</td>\n",
              "      <td>@BVBTC</td>\n",
              "      <td>18 de out</td>\n",
              "    </tr>\n",
              "    <tr>\n",
              "      <th>1</th>\n",
              "      <td>Brekkie von #BitcoinIsForEveryone\\n@BVBTC\\n·\\n...</td>\n",
              "      <td>UP ONLY #BITCOIN            \\n            \\n  ...</td>\n",
              "      <td>@BVBTC</td>\n",
              "      <td>17 de out</td>\n",
              "    </tr>\n",
              "    <tr>\n",
              "      <th>2</th>\n",
              "      <td>Brekkie von #BitcoinIsForEveryone\\n@BVBTC\\n·\\n...</td>\n",
              "      <td>Life may be like a box of chocolates, \\nbut Bi...</td>\n",
              "      <td>@BVBTC</td>\n",
              "      <td>17 de out</td>\n",
              "    </tr>\n",
              "    <tr>\n",
              "      <th>3</th>\n",
              "      <td>Brekkie von #BitcoinIsForEveryone\\n@BVBTC\\n·\\n...</td>\n",
              "      <td>“It ain’t what you don’t know that gets you in...</td>\n",
              "      <td>@BVBTC</td>\n",
              "      <td>17 de out</td>\n",
              "    </tr>\n",
              "    <tr>\n",
              "      <th>4</th>\n",
              "      <td>Brekkie von #BitcoinIsForEveryone\\n@BVBTC\\n·\\n...</td>\n",
              "      <td>First word that pops into your head when you h...</td>\n",
              "      <td>@BVBTC</td>\n",
              "      <td>16 de out</td>\n",
              "    </tr>\n",
              "    <tr>\n",
              "      <th>5</th>\n",
              "      <td>Brekkie von #BitcoinIsForEveryone\\n@BVBTC\\n·\\n...</td>\n",
              "      <td>GM Bitcoiners and future Bitcoiners</td>\n",
              "      <td>@BVBTC</td>\n",
              "      <td>16 de out</td>\n",
              "    </tr>\n",
              "    <tr>\n",
              "      <th>6</th>\n",
              "      <td>Brekkie von #BitcoinIsForEveryone\\n@BVBTC\\n·\\n...</td>\n",
              "      <td>Who is your favorite YouTuber that makes conte...</td>\n",
              "      <td>@BVBTC</td>\n",
              "      <td>15 de out</td>\n",
              "    </tr>\n",
              "    <tr>\n",
              "      <th>7</th>\n",
              "      <td>Brekkie von #BitcoinIsForEveryone\\n@BVBTC\\n·\\n...</td>\n",
              "      <td>I’ve got such a great peter Schiff tweet ready...</td>\n",
              "      <td>@BVBTC</td>\n",
              "      <td>15 de out</td>\n",
              "    </tr>\n",
              "    <tr>\n",
              "      <th>8</th>\n",
              "      <td>Brekkie von #BitcoinIsForEveryone\\n@BVBTC\\n·\\n...</td>\n",
              "      <td>You might be a Bitcoiner if ______________ .</td>\n",
              "      <td>@BVBTC</td>\n",
              "      <td>13 de out</td>\n",
              "    </tr>\n",
              "    <tr>\n",
              "      <th>9</th>\n",
              "      <td>Brekkie von #BitcoinIsForEveryone\\n@BVBTC\\n·\\n...</td>\n",
              "      <td>Approximately every 10 minutes, 6.25 new bitco...</td>\n",
              "      <td>@BVBTC</td>\n",
              "      <td>13 de out</td>\n",
              "    </tr>\n",
              "    <tr>\n",
              "      <th>10</th>\n",
              "      <td>Brekkie von #BitcoinIsForEveryone\\n@BVBTC\\n·\\n...</td>\n",
              "      <td>One day Bob rents a boat so he can show his \\n...</td>\n",
              "      <td>@BVBTC</td>\n",
              "      <td>12 de out</td>\n",
              "    </tr>\n",
              "    <tr>\n",
              "      <th>11</th>\n",
              "      <td>Brekkie von #BitcoinIsForEveryone\\n@BVBTC\\n·\\n...</td>\n",
              "      <td>What do you call a really shitty NFT?\\n\\nPixel...</td>\n",
              "      <td>@BVBTC</td>\n",
              "      <td>12 de out</td>\n",
              "    </tr>\n",
              "    <tr>\n",
              "      <th>12</th>\n",
              "      <td>Brekkie von #BitcoinIsForEveryone\\n@BVBTC\\n·\\n...</td>\n",
              "      <td>Bitcoin gets stronger every day.\\nIf you stack...</td>\n",
              "      <td>@BVBTC</td>\n",
              "      <td>12 de out</td>\n",
              "    </tr>\n",
              "    <tr>\n",
              "      <th>13</th>\n",
              "      <td>Brekkie von #BitcoinIsForEveryone\\n@BVBTC\\n·\\n...</td>\n",
              "      <td>Looking for some recs for podcasts and other r...</td>\n",
              "      <td>@BVBTC</td>\n",
              "      <td>12 de out</td>\n",
              "    </tr>\n",
              "    <tr>\n",
              "      <th>14</th>\n",
              "      <td>Brekkie von #BitcoinIsForEveryone\\n@BVBTC\\n·\\n...</td>\n",
              "      <td>Are you working on a project that positively i...</td>\n",
              "      <td>@BVBTC</td>\n",
              "      <td>12 de out</td>\n",
              "    </tr>\n",
              "    <tr>\n",
              "      <th>15</th>\n",
              "      <td>Brekkie von #BitcoinIsForEveryone\\n@BVBTC\\n·\\n...</td>\n",
              "      <td>𝗟𝗜𝗚𝗛𝗧𝗡𝗜𝗡𝗚 𝗡𝗘𝗧𝗪𝗢𝗥𝗞 𝗦𝗧𝗔𝗧𝗦\\nNetwork Capacity - 30...</td>\n",
              "      <td>@BVBTC</td>\n",
              "      <td>12 de out</td>\n",
              "    </tr>\n",
              "    <tr>\n",
              "      <th>16</th>\n",
              "      <td>Brekkie von #BitcoinIsForEveryone\\n@BVBTC\\n·\\n...</td>\n",
              "      <td>Jamie Dimon walks into a bar and orders a drin...</td>\n",
              "      <td>@BVBTC</td>\n",
              "      <td>11 de out</td>\n",
              "    </tr>\n",
              "    <tr>\n",
              "      <th>17</th>\n",
              "      <td>Brekkie von #BitcoinIsForEveryone\\n@BVBTC\\n·\\n...</td>\n",
              "      <td>I was lucky to find a calling at \\n@SwanBitcoi...</td>\n",
              "      <td>@BVBTC</td>\n",
              "      <td>9 de out</td>\n",
              "    </tr>\n",
              "    <tr>\n",
              "      <th>18</th>\n",
              "      <td>Brekkie von #BitcoinIsForEveryone\\n@BVBTC\\n·\\n...</td>\n",
              "      <td>Finally got tips enabled. So excited to receiv...</td>\n",
              "      <td>@BVBTC</td>\n",
              "      <td>7 de out</td>\n",
              "    </tr>\n",
              "    <tr>\n",
              "      <th>19</th>\n",
              "      <td>Brekkie von #BitcoinIsForEveryone\\n@BVBTC\\n·\\n...</td>\n",
              "      <td>There are Plebs a few months into their journe...</td>\n",
              "      <td>@BVBTC</td>\n",
              "      <td>9 de out</td>\n",
              "    </tr>\n",
              "  </tbody>\n",
              "</table>\n",
              "</div>"
            ],
            "text/plain": [
              "                                               Field1  ...      Text2\n",
              "0   Brekkie von #BitcoinIsForEveryone\\n@BVBTC\\n·\\n...  ...  18 de out\n",
              "1   Brekkie von #BitcoinIsForEveryone\\n@BVBTC\\n·\\n...  ...  17 de out\n",
              "2   Brekkie von #BitcoinIsForEveryone\\n@BVBTC\\n·\\n...  ...  17 de out\n",
              "3   Brekkie von #BitcoinIsForEveryone\\n@BVBTC\\n·\\n...  ...  17 de out\n",
              "4   Brekkie von #BitcoinIsForEveryone\\n@BVBTC\\n·\\n...  ...  16 de out\n",
              "5   Brekkie von #BitcoinIsForEveryone\\n@BVBTC\\n·\\n...  ...  16 de out\n",
              "6   Brekkie von #BitcoinIsForEveryone\\n@BVBTC\\n·\\n...  ...  15 de out\n",
              "7   Brekkie von #BitcoinIsForEveryone\\n@BVBTC\\n·\\n...  ...  15 de out\n",
              "8   Brekkie von #BitcoinIsForEveryone\\n@BVBTC\\n·\\n...  ...  13 de out\n",
              "9   Brekkie von #BitcoinIsForEveryone\\n@BVBTC\\n·\\n...  ...  13 de out\n",
              "10  Brekkie von #BitcoinIsForEveryone\\n@BVBTC\\n·\\n...  ...  12 de out\n",
              "11  Brekkie von #BitcoinIsForEveryone\\n@BVBTC\\n·\\n...  ...  12 de out\n",
              "12  Brekkie von #BitcoinIsForEveryone\\n@BVBTC\\n·\\n...  ...  12 de out\n",
              "13  Brekkie von #BitcoinIsForEveryone\\n@BVBTC\\n·\\n...  ...  12 de out\n",
              "14  Brekkie von #BitcoinIsForEveryone\\n@BVBTC\\n·\\n...  ...  12 de out\n",
              "15  Brekkie von #BitcoinIsForEveryone\\n@BVBTC\\n·\\n...  ...  12 de out\n",
              "16  Brekkie von #BitcoinIsForEveryone\\n@BVBTC\\n·\\n...  ...  11 de out\n",
              "17  Brekkie von #BitcoinIsForEveryone\\n@BVBTC\\n·\\n...  ...   9 de out\n",
              "18  Brekkie von #BitcoinIsForEveryone\\n@BVBTC\\n·\\n...  ...   7 de out\n",
              "19  Brekkie von #BitcoinIsForEveryone\\n@BVBTC\\n·\\n...  ...   9 de out\n",
              "\n",
              "[20 rows x 4 columns]"
            ]
          },
          "metadata": {},
          "execution_count": 248
        }
      ]
    },
    {
      "cell_type": "markdown",
      "metadata": {
        "id": "UsD1RmcH07BA"
      },
      "source": [
        "## BitBoy_crypto"
      ]
    },
    {
      "cell_type": "code",
      "metadata": {
        "id": "WisijvfB4R9K",
        "colab": {
          "base_uri": "https://localhost:8080/",
          "height": 665
        },
        "outputId": "55cce622-3cef-4eb4-d20f-33cc1ea54d79"
      },
      "source": [
        "df_bitboy_crypto = pd.read_csv(\"/content/drive/MyDrive/DI - Analise Bitcoin - GPU/4. Execução/0. Dados Coletados/BitBoy_crypto.csv\")\n",
        "df_bitboy_crypto.replace([\"5 h\"], ['16 de out'], inplace= True)\n",
        "df_bitboy_crypto.head(20)"
      ],
      "execution_count": 250,
      "outputs": [
        {
          "output_type": "execute_result",
          "data": {
            "text/html": [
              "<div>\n",
              "<style scoped>\n",
              "    .dataframe tbody tr th:only-of-type {\n",
              "        vertical-align: middle;\n",
              "    }\n",
              "\n",
              "    .dataframe tbody tr th {\n",
              "        vertical-align: top;\n",
              "    }\n",
              "\n",
              "    .dataframe thead th {\n",
              "        text-align: right;\n",
              "    }\n",
              "</style>\n",
              "<table border=\"1\" class=\"dataframe\">\n",
              "  <thead>\n",
              "    <tr style=\"text-align: right;\">\n",
              "      <th></th>\n",
              "      <th>Field1</th>\n",
              "      <th>Text</th>\n",
              "      <th>Text1</th>\n",
              "      <th>Text2</th>\n",
              "    </tr>\n",
              "  </thead>\n",
              "  <tbody>\n",
              "    <tr>\n",
              "      <th>0</th>\n",
              "      <td>Ben Armstrong\\n@Bitboy_Crypto\\n·\\n5 h\\nIf I ha...</td>\n",
              "      <td>If I had 1 #Bitcoin, I would _______.\\nIf I ha...</td>\n",
              "      <td>@Bitboy_Crypto</td>\n",
              "      <td>16 de out</td>\n",
              "    </tr>\n",
              "    <tr>\n",
              "      <th>1</th>\n",
              "      <td>Ben Armstrong\\n@Bitboy_Crypto\\n·\\n15 de out\\ng...</td>\n",
              "      <td>gm</td>\n",
              "      <td>@Bitboy_Crypto</td>\n",
              "      <td>15 de out</td>\n",
              "    </tr>\n",
              "    <tr>\n",
              "      <th>2</th>\n",
              "      <td>Ben Armstrong\\n@Bitboy_Crypto\\n·\\n29 de set\\nW...</td>\n",
              "      <td>We must continue to educate the masses and enc...</td>\n",
              "      <td>@Bitboy_Crypto</td>\n",
              "      <td>29 de set</td>\n",
              "    </tr>\n",
              "    <tr>\n",
              "      <th>3</th>\n",
              "      <td>Ben Armstrong\\n@Bitboy_Crypto\\n·\\n28 de set\\nN...</td>\n",
              "      <td>No one has ever benefitted from panic-selling....</td>\n",
              "      <td>@Bitboy_Crypto</td>\n",
              "      <td>28 de set</td>\n",
              "    </tr>\n",
              "    <tr>\n",
              "      <th>4</th>\n",
              "      <td>Ben Armstrong\\n@Bitboy_Crypto\\n·\\n25 de set\\nS...</td>\n",
              "      <td>Calling it now. 4-5 years CBDCs will be here.\\...</td>\n",
              "      <td>@Bitboy_Crypto</td>\n",
              "      <td>24 de set</td>\n",
              "    </tr>\n",
              "    <tr>\n",
              "      <th>5</th>\n",
              "      <td>Ben Armstrong\\n@Bitboy_Crypto\\n·\\n19 de set\\nT...</td>\n",
              "      <td>The approval of crypto ETFs puts pressure on t...</td>\n",
              "      <td>@Bitboy_Crypto</td>\n",
              "      <td>19 de set</td>\n",
              "    </tr>\n",
              "    <tr>\n",
              "      <th>6</th>\n",
              "      <td>Ben Armstrong\\n@Bitboy_Crypto\\n·\\n16 de set\\nT...</td>\n",
              "      <td>This recent #Bitcoin \"crash\" reminds me of Nov...</td>\n",
              "      <td>@Bitboy_Crypto</td>\n",
              "      <td>16 de set</td>\n",
              "    </tr>\n",
              "    <tr>\n",
              "      <th>7</th>\n",
              "      <td>Ben Armstrong\\n@Bitboy_Crypto\\n·\\n10 de set\\nS...</td>\n",
              "      <td>Several years down the road, you would have wi...</td>\n",
              "      <td>@Bitboy_Crypto</td>\n",
              "      <td>10 de set</td>\n",
              "    </tr>\n",
              "    <tr>\n",
              "      <th>8</th>\n",
              "      <td>Ben Armstrong\\n@Bitboy_Crypto\\n·\\n8 de set\\nWh...</td>\n",
              "      <td>What's the best #crypto advice you've heard la...</td>\n",
              "      <td>@Bitboy_Crypto</td>\n",
              "      <td>8 de set</td>\n",
              "    </tr>\n",
              "    <tr>\n",
              "      <th>9</th>\n",
              "      <td>Ben Armstrong\\n@Bitboy_Crypto\\n·\\n30 de ago\\nY...</td>\n",
              "      <td>You don't need anyone to hold your #Bitcoin #E...</td>\n",
              "      <td>@Bitboy_Crypto</td>\n",
              "      <td>30 de ago</td>\n",
              "    </tr>\n",
              "    <tr>\n",
              "      <th>10</th>\n",
              "      <td>Ben Armstrong\\n@Bitboy_Crypto\\n·\\n30 de ago\\nT...</td>\n",
              "      <td>The computer can be used as a tool to liberate...</td>\n",
              "      <td>@Bitboy_Crypto</td>\n",
              "      <td>30 de ago</td>\n",
              "    </tr>\n",
              "    <tr>\n",
              "      <th>11</th>\n",
              "      <td>Ben Armstrong\\n@Bitboy_Crypto\\n·\\n30 de ago\\nI...</td>\n",
              "      <td>It's that time of the week again! Currently ma...</td>\n",
              "      <td>@Bitboy_Crypto</td>\n",
              "      <td>30 de ago</td>\n",
              "    </tr>\n",
              "    <tr>\n",
              "      <th>12</th>\n",
              "      <td>Ben Armstrong\\n@Bitboy_Crypto\\n·\\n25 de ago\\nD...</td>\n",
              "      <td>Don't hop into projects that are pumping. This...</td>\n",
              "      <td>@Bitboy_Crypto</td>\n",
              "      <td>25 de ago</td>\n",
              "    </tr>\n",
              "    <tr>\n",
              "      <th>13</th>\n",
              "      <td>Ben Armstrong\\n@Bitboy_Crypto\\n·\\n25 de ago\\n'...</td>\n",
              "      <td>'We should expect #Ethereum to become deflatio...</td>\n",
              "      <td>@Bitboy_Crypto</td>\n",
              "      <td>25 de ago</td>\n",
              "    </tr>\n",
              "    <tr>\n",
              "      <th>14</th>\n",
              "      <td>Ben Armstrong\\n@Bitboy_Crypto\\n·\\n24 de ago\\nT...</td>\n",
              "      <td>There are market influencers you want to trust...</td>\n",
              "      <td>@Bitboy_Crypto</td>\n",
              "      <td>24 de ago</td>\n",
              "    </tr>\n",
              "    <tr>\n",
              "      <th>15</th>\n",
              "      <td>Ben Armstrong\\n@Bitboy_Crypto\\n·\\n20 de ago\\nT...</td>\n",
              "      <td>The computer can be used as a tool to liberate...</td>\n",
              "      <td>@Bitboy_Crypto</td>\n",
              "      <td>20 de ago</td>\n",
              "    </tr>\n",
              "    <tr>\n",
              "      <th>16</th>\n",
              "      <td>Ben Armstrong\\n@Bitboy_Crypto\\n·\\n19 de ago\\nO...</td>\n",
              "      <td>One day we'll ALL have access to crypto - espe...</td>\n",
              "      <td>@Bitboy_Crypto</td>\n",
              "      <td>19 de ago</td>\n",
              "    </tr>\n",
              "    <tr>\n",
              "      <th>17</th>\n",
              "      <td>Ben Armstrong\\n@Bitboy_Crypto\\n·\\n19 de ago\\nI...</td>\n",
              "      <td>Crypto is a way to take our freedom back.\\n\\nT...</td>\n",
              "      <td>@Bitboy_Crypto</td>\n",
              "      <td>17 de ago</td>\n",
              "    </tr>\n",
              "    <tr>\n",
              "      <th>18</th>\n",
              "      <td>Ben Armstrong\\n@Bitboy_Crypto\\n·\\n13 de ago\\nI...</td>\n",
              "      <td>Interesting how nowadays we invite third parti...</td>\n",
              "      <td>@Bitboy_Crypto</td>\n",
              "      <td>13 de ago</td>\n",
              "    </tr>\n",
              "    <tr>\n",
              "      <th>19</th>\n",
              "      <td>Ben Armstrong\\n@Bitboy_Crypto\\n·\\n12 de ago\\nN...</td>\n",
              "      <td>NFTs aren't going away, this is a huge space w...</td>\n",
              "      <td>@Bitboy_Crypto</td>\n",
              "      <td>12 de ago</td>\n",
              "    </tr>\n",
              "  </tbody>\n",
              "</table>\n",
              "</div>"
            ],
            "text/plain": [
              "                                               Field1  ...      Text2\n",
              "0   Ben Armstrong\\n@Bitboy_Crypto\\n·\\n5 h\\nIf I ha...  ...  16 de out\n",
              "1   Ben Armstrong\\n@Bitboy_Crypto\\n·\\n15 de out\\ng...  ...  15 de out\n",
              "2   Ben Armstrong\\n@Bitboy_Crypto\\n·\\n29 de set\\nW...  ...  29 de set\n",
              "3   Ben Armstrong\\n@Bitboy_Crypto\\n·\\n28 de set\\nN...  ...  28 de set\n",
              "4   Ben Armstrong\\n@Bitboy_Crypto\\n·\\n25 de set\\nS...  ...  24 de set\n",
              "5   Ben Armstrong\\n@Bitboy_Crypto\\n·\\n19 de set\\nT...  ...  19 de set\n",
              "6   Ben Armstrong\\n@Bitboy_Crypto\\n·\\n16 de set\\nT...  ...  16 de set\n",
              "7   Ben Armstrong\\n@Bitboy_Crypto\\n·\\n10 de set\\nS...  ...  10 de set\n",
              "8   Ben Armstrong\\n@Bitboy_Crypto\\n·\\n8 de set\\nWh...  ...   8 de set\n",
              "9   Ben Armstrong\\n@Bitboy_Crypto\\n·\\n30 de ago\\nY...  ...  30 de ago\n",
              "10  Ben Armstrong\\n@Bitboy_Crypto\\n·\\n30 de ago\\nT...  ...  30 de ago\n",
              "11  Ben Armstrong\\n@Bitboy_Crypto\\n·\\n30 de ago\\nI...  ...  30 de ago\n",
              "12  Ben Armstrong\\n@Bitboy_Crypto\\n·\\n25 de ago\\nD...  ...  25 de ago\n",
              "13  Ben Armstrong\\n@Bitboy_Crypto\\n·\\n25 de ago\\n'...  ...  25 de ago\n",
              "14  Ben Armstrong\\n@Bitboy_Crypto\\n·\\n24 de ago\\nT...  ...  24 de ago\n",
              "15  Ben Armstrong\\n@Bitboy_Crypto\\n·\\n20 de ago\\nT...  ...  20 de ago\n",
              "16  Ben Armstrong\\n@Bitboy_Crypto\\n·\\n19 de ago\\nO...  ...  19 de ago\n",
              "17  Ben Armstrong\\n@Bitboy_Crypto\\n·\\n19 de ago\\nI...  ...  17 de ago\n",
              "18  Ben Armstrong\\n@Bitboy_Crypto\\n·\\n13 de ago\\nI...  ...  13 de ago\n",
              "19  Ben Armstrong\\n@Bitboy_Crypto\\n·\\n12 de ago\\nN...  ...  12 de ago\n",
              "\n",
              "[20 rows x 4 columns]"
            ]
          },
          "metadata": {},
          "execution_count": 250
        }
      ]
    },
    {
      "cell_type": "markdown",
      "metadata": {
        "id": "B7w-QxYR1E-I"
      },
      "source": [
        "## CobraBitcoin"
      ]
    },
    {
      "cell_type": "code",
      "metadata": {
        "id": "bB908ihT4Suh"
      },
      "source": [
        "df_cobra_bitcoin = pd.read_csv(\"/content/drive/MyDrive/DI - Analise Bitcoin - GPU/4. Execução/0. Dados Coletados/CobraBitcoin completo.csv\")\n",
        "df_cobra_bitcoin = "
      ],
      "execution_count": null,
      "outputs": []
    },
    {
      "cell_type": "markdown",
      "metadata": {
        "id": "Kz_hzzMb1Iep"
      },
      "source": [
        "## CoinDesk"
      ]
    },
    {
      "cell_type": "code",
      "metadata": {
        "id": "L_oM3ZA44TLS"
      },
      "source": [
        "df_coindesk = pd.read_csv(\"/content/drive/MyDrive/DI - Analise Bitcoin - GPU/4. Execução/0. Dados Coletados/CoinDesk.csv\")"
      ],
      "execution_count": null,
      "outputs": []
    },
    {
      "cell_type": "markdown",
      "metadata": {
        "id": "YD-bFJBz1L1g"
      },
      "source": [
        "## CoinTimes"
      ]
    },
    {
      "cell_type": "code",
      "metadata": {
        "id": "DB1MbvV94TzQ"
      },
      "source": [
        "df_coin_times = pd.read_csv(\"/content/drive/MyDrive/DI - Analise Bitcoin - GPU/4. Execução/0. Dados Coletados/CoinTimes.csv\")"
      ],
      "execution_count": null,
      "outputs": []
    },
    {
      "cell_type": "markdown",
      "metadata": {
        "id": "vbs0xefV1O9Q"
      },
      "source": [
        "## CryptoBomNews"
      ]
    },
    {
      "cell_type": "code",
      "metadata": {
        "id": "hvHS_2464Ub3"
      },
      "source": [
        "df_crypto_bom_news = pd.read_csv(\"/content/drive/MyDrive/DI - Analise Bitcoin - GPU/4. Execução/0. Dados Coletados/CryptoBoomNews.csv\")"
      ],
      "execution_count": null,
      "outputs": []
    },
    {
      "cell_type": "markdown",
      "metadata": {
        "id": "Z0fNPUiH1SPQ"
      },
      "source": [
        "## CryptoCobain"
      ]
    },
    {
      "cell_type": "code",
      "metadata": {
        "id": "4BO4Y3Zb4VJX"
      },
      "source": [
        "df_crypto_cobain = pd.read_csv(\"/content/drive/MyDrive/DI - Analise Bitcoin - GPU/4. Execução/0. Dados Coletados/CryptoCobain.csv\")"
      ],
      "execution_count": null,
      "outputs": []
    },
    {
      "cell_type": "markdown",
      "metadata": {
        "id": "sGM-wd7j1XZT"
      },
      "source": [
        "## CryptoDonAlt"
      ]
    },
    {
      "cell_type": "code",
      "metadata": {
        "id": "dYPUzKK-4V9P"
      },
      "source": [
        " df_crypto_don_alt = pd.read_csv(\"/content/drive/MyDrive/DI - Analise Bitcoin - GPU/4. Execução/0. Dados Coletados/CryptoDonAlt.csv\")"
      ],
      "execution_count": null,
      "outputs": []
    },
    {
      "cell_type": "markdown",
      "metadata": {
        "id": "hFenlW4S1umI"
      },
      "source": [
        "##CryptoWendyO"
      ]
    },
    {
      "cell_type": "code",
      "metadata": {
        "id": "o97ex_ld4WqS"
      },
      "source": [
        "df_crypto_wendyO = pd.read_csv(\"/content/drive/MyDrive/DI - Analise Bitcoin - GPU/4. Execução/0. Dados Coletados/CryptoWendyO.csv\")"
      ],
      "execution_count": null,
      "outputs": []
    },
    {
      "cell_type": "markdown",
      "metadata": {
        "id": "E9QWNn4912p4"
      },
      "source": [
        "## DavidGikhshtein"
      ]
    },
    {
      "cell_type": "code",
      "metadata": {
        "id": "kPrKPUnw4XPQ"
      },
      "source": [
        "df_david_gikhshtein = pd.read_csv(\"/content/drive/MyDrive/DI - Analise Bitcoin - GPU/4. Execução/0. Dados Coletados/DavidGikhshtein.csv\")"
      ],
      "execution_count": null,
      "outputs": []
    },
    {
      "cell_type": "markdown",
      "metadata": {
        "id": "LfTpHHXo18TT"
      },
      "source": [
        "## ErikVoorhees"
      ]
    },
    {
      "cell_type": "code",
      "metadata": {
        "id": "3t2pZZfX4XsI"
      },
      "source": [
        "df_erilVoohees = pd.read_csv(\"/content/drive/MyDrive/DI - Analise Bitcoin - GPU/4. Execução/0. Dados Coletados/ErikVoorhees completo.csv\")"
      ],
      "execution_count": null,
      "outputs": []
    },
    {
      "cell_type": "markdown",
      "metadata": {
        "id": "CtZ1V-0Q2AqK"
      },
      "source": [
        "## IvanOnTech"
      ]
    },
    {
      "cell_type": "code",
      "metadata": {
        "id": "RfwwCLx_4YTv"
      },
      "source": [
        "df_ivan_on_tech = pd.read_csv(\"/content/drive/MyDrive/DI - Analise Bitcoin - GPU/4. Execução/0. Dados Coletados/IvanOnTech.csv\")"
      ],
      "execution_count": null,
      "outputs": []
    },
    {
      "cell_type": "markdown",
      "metadata": {
        "id": "sahdnGHs2JCw"
      },
      "source": [
        "## KennethBosak"
      ]
    },
    {
      "cell_type": "code",
      "metadata": {
        "id": "7l2DaGv84YuJ"
      },
      "source": [
        "df_kenneth_bosak = pd.read_csv(\"/content/drive/MyDrive/DI - Analise Bitcoin - GPU/4. Execução/0. Dados Coletados/KennethBosak.csv\")"
      ],
      "execution_count": null,
      "outputs": []
    },
    {
      "cell_type": "markdown",
      "metadata": {
        "id": "jyHUspqk2MJa"
      },
      "source": [
        "## LayahHeilpern"
      ]
    },
    {
      "cell_type": "code",
      "metadata": {
        "id": "f3yeXwXh4ZRw"
      },
      "source": [
        "df_layah_heilpern = pd.read_csv(\"/content/drive/MyDrive/DI - Analise Bitcoin - GPU/4. Execução/0. Dados Coletados/LayahHeilpern.csv\")"
      ],
      "execution_count": null,
      "outputs": []
    },
    {
      "cell_type": "markdown",
      "metadata": {
        "id": "6Y67V5cY2TSp"
      },
      "source": [
        "## Mr. Whale"
      ]
    },
    {
      "cell_type": "code",
      "metadata": {
        "id": "24DY1B1e4Z0c"
      },
      "source": [
        "df_mr_whale = pd.read_csv(\"/content/drive/MyDrive/DI - Analise Bitcoin - GPU/4. Execução/0. Dados Coletados/Mr. Whale.csv\")"
      ],
      "execution_count": null,
      "outputs": []
    },
    {
      "cell_type": "markdown",
      "metadata": {
        "id": "DYixPjGq2aU3"
      },
      "source": [
        "## PeterMcCormack"
      ]
    },
    {
      "cell_type": "code",
      "metadata": {
        "id": "4sZXuHUX4aNw"
      },
      "source": [
        "df_peter_mccormack = pd.read_csv(\"/content/drive/MyDrive/DI - Analise Bitcoin - GPU/4. Execução/0. Dados Coletados/PeterMcCormack.csv\")"
      ],
      "execution_count": null,
      "outputs": []
    },
    {
      "cell_type": "markdown",
      "metadata": {
        "id": "86lmSiit2ejn"
      },
      "source": [
        "## PrestonPysh"
      ]
    },
    {
      "cell_type": "code",
      "metadata": {
        "id": "JHLo62At4arg"
      },
      "source": [
        "df_preston_pysh = pd.read_csv(\"/content/drive/MyDrive/DI - Analise Bitcoin - GPU/4. Execução/0. Dados Coletados/PrestonPysh.csv\")"
      ],
      "execution_count": null,
      "outputs": []
    },
    {
      "cell_type": "markdown",
      "metadata": {
        "id": "aQb9grK52idn"
      },
      "source": [
        "## SatpshiLite"
      ]
    },
    {
      "cell_type": "code",
      "metadata": {
        "id": "0NSHXV2B4bG5"
      },
      "source": [
        "df_stapshi_lite = pd.read_csv(\"/content/drive/MyDrive/DI - Analise Bitcoin - GPU/4. Execução/0. Dados Coletados/SatpshiLite.csv\")"
      ],
      "execution_count": null,
      "outputs": []
    },
    {
      "cell_type": "markdown",
      "metadata": {
        "id": "pkShX6aw2lUA"
      },
      "source": [
        "## StackingUSD"
      ]
    },
    {
      "cell_type": "code",
      "metadata": {
        "id": "fshlLy8C4bpZ"
      },
      "source": [
        "df_strackingUSD = pd.read_csv(\"/content/drive/MyDrive/DI - Analise Bitcoin - GPU/4. Execução/0. Dados Coletados/StackingUSD.csv\")"
      ],
      "execution_count": null,
      "outputs": []
    },
    {
      "cell_type": "markdown",
      "metadata": {
        "id": "Z1WXtsY12nIQ"
      },
      "source": [
        "## TheCryptoDog"
      ]
    },
    {
      "cell_type": "code",
      "metadata": {
        "id": "4PmeoseL4cUS"
      },
      "source": [
        "df_crypto_dog = pd.read_csv(\"/content/drive/MyDrive/DI - Analise Bitcoin - GPU/4. Execução/0. Dados Coletados/TheCryptoDog.csv\")"
      ],
      "execution_count": null,
      "outputs": []
    },
    {
      "cell_type": "markdown",
      "metadata": {
        "id": "gklZeHyy2pY3"
      },
      "source": [
        "## ToneVays"
      ]
    },
    {
      "cell_type": "code",
      "metadata": {
        "id": "u0e8NMR14czB"
      },
      "source": [
        "df_tone_vays = pd.read_csv(\"/content/drive/MyDrive/DI - Analise Bitcoin - GPU/4. Execução/0. Dados Coletados/ToneVays.csv\")"
      ],
      "execution_count": null,
      "outputs": []
    },
    {
      "cell_type": "markdown",
      "metadata": {
        "id": "AReRlyuk2qoR"
      },
      "source": [
        "## TyDanielSmith"
      ]
    },
    {
      "cell_type": "code",
      "metadata": {
        "id": "PFHFmopo4dTT"
      },
      "source": [
        "df_daniel_smith = pd.read_csv(\"/content/drive/MyDrive/DI - Analise Bitcoin - GPU/4. Execução/0. Dados Coletados/TyDanielSmith.csv\")"
      ],
      "execution_count": null,
      "outputs": []
    },
    {
      "cell_type": "markdown",
      "metadata": {
        "id": "NE5xAXWS2s6w"
      },
      "source": [
        "## WhalePanda"
      ]
    },
    {
      "cell_type": "code",
      "metadata": {
        "id": "Vq238Sog4dto"
      },
      "source": [
        "df_whale_panda = pd.read_csv(\"/content/drive/MyDrive/DI - Analise Bitcoin - GPU/4. Execução/0. Dados Coletados/WhalePanda.csv\")"
      ],
      "execution_count": null,
      "outputs": []
    },
    {
      "cell_type": "markdown",
      "metadata": {
        "id": "lmfK4ar_2u1g"
      },
      "source": [
        "## Antonop"
      ]
    },
    {
      "cell_type": "code",
      "metadata": {
        "id": "C0A85YuQ4eC4"
      },
      "source": [
        "df_antonop = pd.read_csv(\"/content/drive/MyDrive/DI - Analise Bitcoin - GPU/4. Execução/0. Dados Coletados/aantonop completo.csv\")"
      ],
      "execution_count": null,
      "outputs": []
    },
    {
      "cell_type": "markdown",
      "metadata": {
        "id": "B7oR6Nx_253p"
      },
      "source": [
        "## adam3us"
      ]
    },
    {
      "cell_type": "code",
      "metadata": {
        "id": "wD5rmk5n4ekK"
      },
      "source": [
        " df_ada3us = pd.read_csv(\"/content/drive/MyDrive/DI - Analise Bitcoin - GPU/4. Execução/0. Dados Coletados/adam3us.csv\")"
      ],
      "execution_count": null,
      "outputs": []
    },
    {
      "cell_type": "markdown",
      "metadata": {
        "id": "4jz7_eAj28jQ"
      },
      "source": [
        "## brian_armstrong"
      ]
    },
    {
      "cell_type": "code",
      "metadata": {
        "id": "GrAyIomM4e-a"
      },
      "source": [
        "df_brian_armstrong = pd.read_csv(\"/content/drive/MyDrive/DI - Analise Bitcoin - GPU/4. Execução/0. Dados Coletados/brian_armstrong.csv\")"
      ],
      "execution_count": null,
      "outputs": []
    },
    {
      "cell_type": "markdown",
      "metadata": {
        "id": "TDvfI_D22-pb"
      },
      "source": [
        "## crypto"
      ]
    },
    {
      "cell_type": "code",
      "metadata": {
        "id": "0UuEjXCH4fbh"
      },
      "source": [
        "df_cryptoProfile = pd.read_csv(\"/content/drive/MyDrive/DI - Analise Bitcoin - GPU/4. Execução/0. Dados Coletados/crypto.csv\")"
      ],
      "execution_count": null,
      "outputs": []
    },
    {
      "cell_type": "markdown",
      "metadata": {
        "id": "mg7-EMaf3Bjh"
      },
      "source": [
        "## cz_binance"
      ]
    },
    {
      "cell_type": "code",
      "metadata": {
        "id": "a9Hv1Tsk4f85"
      },
      "source": [
        "df_cz_binance = pd.read_csv(\"/content/drive/MyDrive/DI - Analise Bitcoin - GPU/4. Execução/0. Dados Coletados/cz_binance.csv\")"
      ],
      "execution_count": null,
      "outputs": []
    },
    {
      "cell_type": "markdown",
      "metadata": {
        "id": "j968JIVR3IJA"
      },
      "source": [
        "## danheld"
      ]
    },
    {
      "cell_type": "code",
      "metadata": {
        "id": "IxnVz2BY4gd6"
      },
      "source": [
        "df_danheld = pd.read_csv(\"/content/drive/MyDrive/DI - Analise Bitcoin - GPU/4. Execução/0. Dados Coletados/danheld.csv\")"
      ],
      "execution_count": null,
      "outputs": []
    },
    {
      "cell_type": "markdown",
      "metadata": {
        "id": "WgBN3rbl3KRw"
      },
      "source": [
        "## girlgone_crypto"
      ]
    },
    {
      "cell_type": "code",
      "metadata": {
        "id": "BjVr2gAV4g4f"
      },
      "source": [
        "df_girlgone_crypto = pd.read_csv(\"/content/drive/MyDrive/DI - Analise Bitcoin - GPU/4. Execução/0. Dados Coletados/girlgone_crypto.csv\")"
      ],
      "execution_count": null,
      "outputs": []
    },
    {
      "cell_type": "markdown",
      "metadata": {
        "id": "hrwaSnzq3NvC"
      },
      "source": [
        "## justinsuntron"
      ]
    },
    {
      "cell_type": "code",
      "metadata": {
        "id": "UBhgm55H4hPB"
      },
      "source": [
        "df_justinsuntron = pd.read_csv(\"/content/drive/MyDrive/DI - Analise Bitcoin - GPU/4. Execução/0. Dados Coletados/justinsuntron.csv\")"
      ],
      "execution_count": null,
      "outputs": []
    },
    {
      "cell_type": "markdown",
      "metadata": {
        "id": "ZW-ZVw7c3Rr3"
      },
      "source": [
        "## laurashi"
      ]
    },
    {
      "cell_type": "code",
      "metadata": {
        "id": "Tcge3rNH4h3M"
      },
      "source": [
        "df_laurashi = pd.read_csv(\"/content/drive/MyDrive/DI - Analise Bitcoin - GPU/4. Execução/0. Dados Coletados/laurashi.csv\")"
      ],
      "execution_count": null,
      "outputs": []
    },
    {
      "cell_type": "markdown",
      "metadata": {
        "id": "Hq5gnOXD3UhX"
      },
      "source": [
        "## lopp"
      ]
    },
    {
      "cell_type": "code",
      "metadata": {
        "id": "ceJelaSs4icI"
      },
      "source": [
        " df_lopp = pd.read_csv(\"/content/drive/MyDrive/DI - Analise Bitcoin - GPU/4. Execução/0. Dados Coletados/lopp.csv\")"
      ],
      "execution_count": null,
      "outputs": []
    },
    {
      "cell_type": "markdown",
      "metadata": {
        "id": "Q8sM1ELH3Xih"
      },
      "source": [
        "## ElonMusk"
      ]
    },
    {
      "cell_type": "code",
      "metadata": {
        "id": "nOcwsLy652vU"
      },
      "source": [
        "df_musk = pd.read_csv(\"/content/drive/MyDrive/DI - Analise Bitcoin - GPU/4. Execução/0. Dados Coletados/musk completo.csv\")"
      ],
      "execution_count": null,
      "outputs": []
    },
    {
      "cell_type": "markdown",
      "metadata": {
        "id": "4k695WDy3aYR"
      },
      "source": [
        "## naval"
      ]
    },
    {
      "cell_type": "code",
      "metadata": {
        "id": "5Xp3BbIr4ltn"
      },
      "source": [
        "df_naval = pd.read_csv(\"/content/drive/MyDrive/DI - Analise Bitcoin - GPU/4. Execução/0. Dados Coletados/naval.csv\")"
      ],
      "execution_count": null,
      "outputs": []
    },
    {
      "cell_type": "markdown",
      "metadata": {
        "id": "dm1XbCbi3cWZ"
      },
      "source": [
        "##nic__carter"
      ]
    },
    {
      "cell_type": "code",
      "metadata": {
        "id": "EZfJCOqm4m3c"
      },
      "source": [
        "df_nic_carter = pd.read_csv(\"/content/drive/MyDrive/DI - Analise Bitcoin - GPU/4. Execução/0. Dados Coletados/nic__carter.csv\")"
      ],
      "execution_count": null,
      "outputs": []
    },
    {
      "cell_type": "markdown",
      "metadata": {
        "id": "8UWlRVfu3fQq"
      },
      "source": [
        "## realmaxkeiser"
      ]
    },
    {
      "cell_type": "code",
      "metadata": {
        "id": "B9muTZQI4nif"
      },
      "source": [
        "df_realmaxleiser  = pd.read_csv(\"/content/drive/MyDrive/DI - Analise Bitcoin - GPU/4. Execução/0. Dados Coletados/theRealKiyosaki.csv\")"
      ],
      "execution_count": null,
      "outputs": []
    },
    {
      "cell_type": "markdown",
      "metadata": {
        "id": "TE0vU0VG3h2o"
      },
      "source": [
        "## rogerkver"
      ]
    },
    {
      "cell_type": "code",
      "metadata": {
        "id": "5Fgbq8yJ4pK3"
      },
      "source": [
        "df_rogerkver = pd.read_csv(\"/content/drive/MyDrive/DI - Analise Bitcoin - GPU/4. Execução/0. Dados Coletados/rogerkver.csv\")"
      ],
      "execution_count": null,
      "outputs": []
    },
    {
      "cell_type": "markdown",
      "metadata": {
        "id": "iEiXKNpB3lVX"
      },
      "source": [
        "## scottmelker"
      ]
    },
    {
      "cell_type": "code",
      "metadata": {
        "id": "R5erTRaS4p-T"
      },
      "source": [
        "df_wolfAllStrets = pd.read_csv(\"/content/drive/MyDrive/DI - Analise Bitcoin - GPU/4. Execução/0. Dados Coletados/theRealKiyosaki.csv\")"
      ],
      "execution_count": null,
      "outputs": []
    },
    {
      "cell_type": "markdown",
      "metadata": {
        "id": "It5jjYIN3tdH"
      },
      "source": [
        "## theRealKiyosaki"
      ]
    },
    {
      "cell_type": "code",
      "metadata": {
        "id": "MJPHwqAm4qhY"
      },
      "source": [
        "df_kiyosaki = pd.read_csv(\"/content/drive/MyDrive/DI - Analise Bitcoin - GPU/4. Execução/0. Dados Coletados/theRealKiyosaki.csv\")"
      ],
      "execution_count": null,
      "outputs": []
    },
    {
      "cell_type": "markdown",
      "metadata": {
        "id": "oiGeP1bw39bx"
      },
      "source": [
        "##thedemayne"
      ]
    },
    {
      "cell_type": "code",
      "metadata": {
        "id": "Eh_piYYM4rCy"
      },
      "source": [
        "df_thedemayne = pd.read_csv(\"/content/drive/MyDrive/DI - Analise Bitcoin - GPU/4. Execução/0. Dados Coletados/trademayne.csv\")"
      ],
      "execution_count": null,
      "outputs": []
    },
    {
      "cell_type": "markdown",
      "metadata": {
        "id": "hHaMl7Sl5Hmr"
      },
      "source": [
        "## Tyler"
      ]
    },
    {
      "cell_type": "code",
      "metadata": {
        "id": "w1PNv-xI5I6i"
      },
      "source": [
        "df_tyler = pd.read_csv(\"/content/drive/MyDrive/DI - Analise Bitcoin - GPU/4. Execução/0. Dados Coletados/tyler.csv\")"
      ],
      "execution_count": null,
      "outputs": []
    },
    {
      "cell_type": "markdown",
      "metadata": {
        "id": "XSWN4s8Q4B4T"
      },
      "source": [
        "## vitalik"
      ]
    },
    {
      "cell_type": "code",
      "metadata": {
        "colab": {
          "background_save": true
        },
        "id": "ey8yxUXn4rgw"
      },
      "source": [
        "df_virtalik_pt1 = pd.read_csv(\"/content/drive/MyDrive/DI - Analise Bitcoin - GPU/4. Execução/0. Dados Coletados/vitalik.eth-14-10-2021__02-01-2020.csv\")\n",
        "df_virtalik_pt2 = pd.read_csv(\"/content/drive/MyDrive/DI - Analise Bitcoin - GPU/4. Execução/0. Dados Coletados/vitalik.eth-02-01-2020__02-01-2015.csv\")"
      ],
      "execution_count": null,
      "outputs": []
    },
    {
      "cell_type": "markdown",
      "metadata": {
        "id": "HptddsMJ4D-a"
      },
      "source": [
        "## woonomic"
      ]
    },
    {
      "cell_type": "code",
      "metadata": {
        "colab": {
          "background_save": true
        },
        "id": "oZu5NG1R4r4h"
      },
      "source": [
        "df_wonomic = pd.read_csv(\"/content/drive/MyDrive/DI - Analise Bitcoin - GPU/4. Execução/0. Dados Coletados/woonomic.csv\")"
      ],
      "execution_count": null,
      "outputs": []
    },
    {
      "cell_type": "markdown",
      "metadata": {
        "id": "qrzeKF_sqtcF"
      },
      "source": [
        "# Adjusting dataframe"
      ]
    },
    {
      "cell_type": "markdown",
      "metadata": {
        "id": "6VQcte6wqXh1"
      },
      "source": [
        "## Removing unnecessary lines and columns"
      ]
    },
    {
      "cell_type": "code",
      "metadata": {
        "colab": {
          "base_uri": "https://localhost:8080/",
          "height": 555
        },
        "id": "fF9J9KZJqXWF",
        "outputId": "4881b660-bcfc-4a4b-e6d0-50326ff8f1c7"
      },
      "source": [
        "df_tweets.pop(\"Field1\")\n",
        "df_tweets.drop(index=0, axis=0, inplace=True)"
      ],
      "execution_count": null,
      "outputs": [
        {
          "ename": "KeyError",
          "evalue": "ignored",
          "output_type": "error",
          "traceback": [
            "\u001b[0;31m---------------------------------------------------------------------------\u001b[0m",
            "\u001b[0;31mKeyError\u001b[0m                                  Traceback (most recent call last)",
            "\u001b[0;32m/usr/local/lib/python3.7/dist-packages/pandas/core/indexes/base.py\u001b[0m in \u001b[0;36mget_loc\u001b[0;34m(self, key, method, tolerance)\u001b[0m\n\u001b[1;32m   2897\u001b[0m             \u001b[0;32mtry\u001b[0m\u001b[0;34m:\u001b[0m\u001b[0;34m\u001b[0m\u001b[0;34m\u001b[0m\u001b[0m\n\u001b[0;32m-> 2898\u001b[0;31m                 \u001b[0;32mreturn\u001b[0m \u001b[0mself\u001b[0m\u001b[0;34m.\u001b[0m\u001b[0m_engine\u001b[0m\u001b[0;34m.\u001b[0m\u001b[0mget_loc\u001b[0m\u001b[0;34m(\u001b[0m\u001b[0mcasted_key\u001b[0m\u001b[0;34m)\u001b[0m\u001b[0;34m\u001b[0m\u001b[0;34m\u001b[0m\u001b[0m\n\u001b[0m\u001b[1;32m   2899\u001b[0m             \u001b[0;32mexcept\u001b[0m \u001b[0mKeyError\u001b[0m \u001b[0;32mas\u001b[0m \u001b[0merr\u001b[0m\u001b[0;34m:\u001b[0m\u001b[0;34m\u001b[0m\u001b[0;34m\u001b[0m\u001b[0m\n",
            "\u001b[0;32mpandas/_libs/index.pyx\u001b[0m in \u001b[0;36mpandas._libs.index.IndexEngine.get_loc\u001b[0;34m()\u001b[0m\n",
            "\u001b[0;32mpandas/_libs/index.pyx\u001b[0m in \u001b[0;36mpandas._libs.index.IndexEngine.get_loc\u001b[0;34m()\u001b[0m\n",
            "\u001b[0;32mpandas/_libs/hashtable_class_helper.pxi\u001b[0m in \u001b[0;36mpandas._libs.hashtable.PyObjectHashTable.get_item\u001b[0;34m()\u001b[0m\n",
            "\u001b[0;32mpandas/_libs/hashtable_class_helper.pxi\u001b[0m in \u001b[0;36mpandas._libs.hashtable.PyObjectHashTable.get_item\u001b[0;34m()\u001b[0m\n",
            "\u001b[0;31mKeyError\u001b[0m: 'Field1'",
            "\nThe above exception was the direct cause of the following exception:\n",
            "\u001b[0;31mKeyError\u001b[0m                                  Traceback (most recent call last)",
            "\u001b[0;32m<ipython-input-242-cf1024c1a181>\u001b[0m in \u001b[0;36m<module>\u001b[0;34m()\u001b[0m\n\u001b[0;32m----> 1\u001b[0;31m \u001b[0mdf_tweets\u001b[0m\u001b[0;34m.\u001b[0m\u001b[0mpop\u001b[0m\u001b[0;34m(\u001b[0m\u001b[0;34m\"Field1\"\u001b[0m\u001b[0;34m)\u001b[0m\u001b[0;34m\u001b[0m\u001b[0;34m\u001b[0m\u001b[0m\n\u001b[0m\u001b[1;32m      2\u001b[0m \u001b[0mdf_tweets\u001b[0m\u001b[0;34m.\u001b[0m\u001b[0mdrop\u001b[0m\u001b[0;34m(\u001b[0m\u001b[0mindex\u001b[0m\u001b[0;34m=\u001b[0m\u001b[0;36m0\u001b[0m\u001b[0;34m,\u001b[0m \u001b[0maxis\u001b[0m\u001b[0;34m=\u001b[0m\u001b[0;36m0\u001b[0m\u001b[0;34m,\u001b[0m \u001b[0minplace\u001b[0m\u001b[0;34m=\u001b[0m\u001b[0;32mTrue\u001b[0m\u001b[0;34m)\u001b[0m\u001b[0;34m\u001b[0m\u001b[0;34m\u001b[0m\u001b[0m\n",
            "\u001b[0;32m/usr/local/lib/python3.7/dist-packages/pandas/core/frame.py\u001b[0m in \u001b[0;36mpop\u001b[0;34m(self, item)\u001b[0m\n\u001b[1;32m   4369\u001b[0m         \u001b[0;36m3\u001b[0m  \u001b[0mmonkey\u001b[0m        \u001b[0mNaN\u001b[0m\u001b[0;34m\u001b[0m\u001b[0;34m\u001b[0m\u001b[0m\n\u001b[1;32m   4370\u001b[0m         \"\"\"\n\u001b[0;32m-> 4371\u001b[0;31m         \u001b[0;32mreturn\u001b[0m \u001b[0msuper\u001b[0m\u001b[0;34m(\u001b[0m\u001b[0;34m)\u001b[0m\u001b[0;34m.\u001b[0m\u001b[0mpop\u001b[0m\u001b[0;34m(\u001b[0m\u001b[0mitem\u001b[0m\u001b[0;34m=\u001b[0m\u001b[0mitem\u001b[0m\u001b[0;34m)\u001b[0m\u001b[0;34m\u001b[0m\u001b[0;34m\u001b[0m\u001b[0m\n\u001b[0m\u001b[1;32m   4372\u001b[0m \u001b[0;34m\u001b[0m\u001b[0m\n\u001b[1;32m   4373\u001b[0m     \u001b[0;34m@\u001b[0m\u001b[0mdoc\u001b[0m\u001b[0;34m(\u001b[0m\u001b[0mNDFrame\u001b[0m\u001b[0;34m.\u001b[0m\u001b[0mreplace\u001b[0m\u001b[0;34m,\u001b[0m \u001b[0;34m**\u001b[0m\u001b[0m_shared_doc_kwargs\u001b[0m\u001b[0;34m)\u001b[0m\u001b[0;34m\u001b[0m\u001b[0;34m\u001b[0m\u001b[0m\n",
            "\u001b[0;32m/usr/local/lib/python3.7/dist-packages/pandas/core/generic.py\u001b[0m in \u001b[0;36mpop\u001b[0;34m(self, item)\u001b[0m\n\u001b[1;32m    659\u001b[0m \u001b[0;34m\u001b[0m\u001b[0m\n\u001b[1;32m    660\u001b[0m     \u001b[0;32mdef\u001b[0m \u001b[0mpop\u001b[0m\u001b[0;34m(\u001b[0m\u001b[0mself\u001b[0m\u001b[0;34m,\u001b[0m \u001b[0mitem\u001b[0m\u001b[0;34m:\u001b[0m \u001b[0mLabel\u001b[0m\u001b[0;34m)\u001b[0m \u001b[0;34m->\u001b[0m \u001b[0mUnion\u001b[0m\u001b[0;34m[\u001b[0m\u001b[0;34m\"Series\"\u001b[0m\u001b[0;34m,\u001b[0m \u001b[0mAny\u001b[0m\u001b[0;34m]\u001b[0m\u001b[0;34m:\u001b[0m\u001b[0;34m\u001b[0m\u001b[0;34m\u001b[0m\u001b[0m\n\u001b[0;32m--> 661\u001b[0;31m         \u001b[0mresult\u001b[0m \u001b[0;34m=\u001b[0m \u001b[0mself\u001b[0m\u001b[0;34m[\u001b[0m\u001b[0mitem\u001b[0m\u001b[0;34m]\u001b[0m\u001b[0;34m\u001b[0m\u001b[0;34m\u001b[0m\u001b[0m\n\u001b[0m\u001b[1;32m    662\u001b[0m         \u001b[0;32mdel\u001b[0m \u001b[0mself\u001b[0m\u001b[0;34m[\u001b[0m\u001b[0mitem\u001b[0m\u001b[0;34m]\u001b[0m\u001b[0;34m\u001b[0m\u001b[0;34m\u001b[0m\u001b[0m\n\u001b[1;32m    663\u001b[0m         \u001b[0;32mif\u001b[0m \u001b[0mself\u001b[0m\u001b[0;34m.\u001b[0m\u001b[0mndim\u001b[0m \u001b[0;34m==\u001b[0m \u001b[0;36m2\u001b[0m\u001b[0;34m:\u001b[0m\u001b[0;34m\u001b[0m\u001b[0;34m\u001b[0m\u001b[0m\n",
            "\u001b[0;32m/usr/local/lib/python3.7/dist-packages/pandas/core/frame.py\u001b[0m in \u001b[0;36m__getitem__\u001b[0;34m(self, key)\u001b[0m\n\u001b[1;32m   2904\u001b[0m             \u001b[0;32mif\u001b[0m \u001b[0mself\u001b[0m\u001b[0;34m.\u001b[0m\u001b[0mcolumns\u001b[0m\u001b[0;34m.\u001b[0m\u001b[0mnlevels\u001b[0m \u001b[0;34m>\u001b[0m \u001b[0;36m1\u001b[0m\u001b[0;34m:\u001b[0m\u001b[0;34m\u001b[0m\u001b[0;34m\u001b[0m\u001b[0m\n\u001b[1;32m   2905\u001b[0m                 \u001b[0;32mreturn\u001b[0m \u001b[0mself\u001b[0m\u001b[0;34m.\u001b[0m\u001b[0m_getitem_multilevel\u001b[0m\u001b[0;34m(\u001b[0m\u001b[0mkey\u001b[0m\u001b[0;34m)\u001b[0m\u001b[0;34m\u001b[0m\u001b[0;34m\u001b[0m\u001b[0m\n\u001b[0;32m-> 2906\u001b[0;31m             \u001b[0mindexer\u001b[0m \u001b[0;34m=\u001b[0m \u001b[0mself\u001b[0m\u001b[0;34m.\u001b[0m\u001b[0mcolumns\u001b[0m\u001b[0;34m.\u001b[0m\u001b[0mget_loc\u001b[0m\u001b[0;34m(\u001b[0m\u001b[0mkey\u001b[0m\u001b[0;34m)\u001b[0m\u001b[0;34m\u001b[0m\u001b[0;34m\u001b[0m\u001b[0m\n\u001b[0m\u001b[1;32m   2907\u001b[0m             \u001b[0;32mif\u001b[0m \u001b[0mis_integer\u001b[0m\u001b[0;34m(\u001b[0m\u001b[0mindexer\u001b[0m\u001b[0;34m)\u001b[0m\u001b[0;34m:\u001b[0m\u001b[0;34m\u001b[0m\u001b[0;34m\u001b[0m\u001b[0m\n\u001b[1;32m   2908\u001b[0m                 \u001b[0mindexer\u001b[0m \u001b[0;34m=\u001b[0m \u001b[0;34m[\u001b[0m\u001b[0mindexer\u001b[0m\u001b[0;34m]\u001b[0m\u001b[0;34m\u001b[0m\u001b[0;34m\u001b[0m\u001b[0m\n",
            "\u001b[0;32m/usr/local/lib/python3.7/dist-packages/pandas/core/indexes/base.py\u001b[0m in \u001b[0;36mget_loc\u001b[0;34m(self, key, method, tolerance)\u001b[0m\n\u001b[1;32m   2898\u001b[0m                 \u001b[0;32mreturn\u001b[0m \u001b[0mself\u001b[0m\u001b[0;34m.\u001b[0m\u001b[0m_engine\u001b[0m\u001b[0;34m.\u001b[0m\u001b[0mget_loc\u001b[0m\u001b[0;34m(\u001b[0m\u001b[0mcasted_key\u001b[0m\u001b[0;34m)\u001b[0m\u001b[0;34m\u001b[0m\u001b[0;34m\u001b[0m\u001b[0m\n\u001b[1;32m   2899\u001b[0m             \u001b[0;32mexcept\u001b[0m \u001b[0mKeyError\u001b[0m \u001b[0;32mas\u001b[0m \u001b[0merr\u001b[0m\u001b[0;34m:\u001b[0m\u001b[0;34m\u001b[0m\u001b[0;34m\u001b[0m\u001b[0m\n\u001b[0;32m-> 2900\u001b[0;31m                 \u001b[0;32mraise\u001b[0m \u001b[0mKeyError\u001b[0m\u001b[0;34m(\u001b[0m\u001b[0mkey\u001b[0m\u001b[0;34m)\u001b[0m \u001b[0;32mfrom\u001b[0m \u001b[0merr\u001b[0m\u001b[0;34m\u001b[0m\u001b[0;34m\u001b[0m\u001b[0m\n\u001b[0m\u001b[1;32m   2901\u001b[0m \u001b[0;34m\u001b[0m\u001b[0m\n\u001b[1;32m   2902\u001b[0m         \u001b[0;32mif\u001b[0m \u001b[0mtolerance\u001b[0m \u001b[0;32mis\u001b[0m \u001b[0;32mnot\u001b[0m \u001b[0;32mNone\u001b[0m\u001b[0;34m:\u001b[0m\u001b[0;34m\u001b[0m\u001b[0;34m\u001b[0m\u001b[0m\n",
            "\u001b[0;31mKeyError\u001b[0m: 'Field1'"
          ]
        }
      ]
    },
    {
      "cell_type": "markdown",
      "metadata": {
        "id": "glHHgqC-oqr2"
      },
      "source": [
        "## Renaming the columns"
      ]
    },
    {
      "cell_type": "code",
      "metadata": {
        "id": "RqTKNJwpntG0"
      },
      "source": [
        "new_heades = {\n",
        "    # current name : new name\n",
        "    'Text' : 'Tweet',\n",
        "    'Text1' : 'User', \n",
        "    'Text2': 'Date'\n",
        "}\n",
        "\n",
        "df_tweets.rename(columns=new_heades, inplace=True)\n",
        "df_tweets"
      ],
      "execution_count": null,
      "outputs": []
    },
    {
      "cell_type": "markdown",
      "metadata": {
        "id": "8CocOrrCrpnr"
      },
      "source": [
        "# Changing column data type"
      ]
    },
    {
      "cell_type": "code",
      "metadata": {
        "colab": {
          "background_save": true
        },
        "id": "1M-iFpUWrAL3",
        "outputId": "b180a2a5-0565-4661-8e14-2368754a306f"
      },
      "source": [
        "df_tweets.info()"
      ],
      "execution_count": null,
      "outputs": [
        {
          "name": "stdout",
          "output_type": "stream",
          "text": [
            "<class 'pandas.core.frame.DataFrame'>\n",
            "Int64Index: 67163 entries, 1 to 67163\n",
            "Data columns (total 3 columns):\n",
            " #   Column  Non-Null Count  Dtype \n",
            "---  ------  --------------  ----- \n",
            " 0   Tweet   66921 non-null  object\n",
            " 1   User    67146 non-null  object\n",
            " 2   Date    67132 non-null  object\n",
            "dtypes: object(3)\n",
            "memory usage: 2.0+ MB\n"
          ]
        }
      ]
    },
    {
      "cell_type": "markdown",
      "metadata": {
        "id": "tBvvsgrcscNV"
      },
      "source": [
        "Tweet and User column will be change from object to String"
      ]
    },
    {
      "cell_type": "code",
      "metadata": {
        "id": "cj0ulginr2Qb"
      },
      "source": [
        "df_tweets['Tweet'].astype(str)"
      ],
      "execution_count": null,
      "outputs": []
    },
    {
      "cell_type": "code",
      "metadata": {
        "id": "RzDVNgvItQDj"
      },
      "source": [
        "df_tweets['User'].astype(str)"
      ],
      "execution_count": null,
      "outputs": []
    },
    {
      "cell_type": "markdown",
      "metadata": {
        "id": "mV0jS3Dcunjc"
      },
      "source": [
        "Before changing the data type of the Date column it is necessary to change some values that are incorrect"
      ]
    },
    {
      "cell_type": "code",
      "metadata": {
        "id": "0lyYuiJ5tv6N"
      },
      "source": [
        "df_tweets['Date'].value_counts()"
      ],
      "execution_count": null,
      "outputs": []
    },
    {
      "cell_type": "code",
      "metadata": {
        "id": "_MnjaQ6GtbyC"
      },
      "source": [
        ""
      ],
      "execution_count": null,
      "outputs": []
    }
  ]
}