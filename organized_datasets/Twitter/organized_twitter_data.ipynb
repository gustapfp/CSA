{
  "nbformat": 4,
  "nbformat_minor": 0,
  "metadata": {
    "colab": {
      "name": "organized_twitter_data",
      "provenance": []
    },
    "kernelspec": {
      "name": "python3",
      "display_name": "Python 3"
    },
    "language_info": {
      "name": "python"
    }
  },
  "cells": [
    {
      "cell_type": "markdown",
      "metadata": {
        "id": "NSzjB0sLbsxK"
      },
      "source": [
        "# Cleaning and Organizing data extracted from twitter with Octoparse"
      ]
    },
    {
      "cell_type": "code",
      "metadata": {
        "id": "xUcwZtvTbHUn"
      },
      "source": [
        "import pandas as pd"
      ],
      "execution_count": 68,
      "outputs": []
    },
    {
      "cell_type": "markdown",
      "metadata": {
        "id": "1_bkFfvQb5hJ"
      },
      "source": [
        "# Getting the datasets\n",
        "\n",
        "The csv files below was acquired using web scraping via Octoparse. \\\n",
        "Link Octoparse: https://www.octoparse.com/ \\\n",
        "Link PET-MA tutorial to scrap tweets from twitter using octoparse:"
      ]
    },
    {
      "cell_type": "code",
      "metadata": {
        "colab": {
          "base_uri": "https://localhost:8080/",
          "height": 418
        },
        "id": "SR9-pxPhngxm",
        "outputId": "7ed83fd0-5844-4070-f509-079a49467909"
      },
      "source": [
        "df_tweets = pd.read_csv(\"/content/drive/MyDrive/DI - Analise Bitcoin - GPU/4. Execução/0. Dados Coletados/all_tweets.csv\", names=[\"Field1\", \"Text\", \"Text1\", \"Text2\"] )\n",
        "df_tweets"
      ],
      "execution_count": 69,
      "outputs": [
        {
          "output_type": "execute_result",
          "data": {
            "text/html": [
              "<div>\n",
              "<style scoped>\n",
              "    .dataframe tbody tr th:only-of-type {\n",
              "        vertical-align: middle;\n",
              "    }\n",
              "\n",
              "    .dataframe tbody tr th {\n",
              "        vertical-align: top;\n",
              "    }\n",
              "\n",
              "    .dataframe thead th {\n",
              "        text-align: right;\n",
              "    }\n",
              "</style>\n",
              "<table border=\"1\" class=\"dataframe\">\n",
              "  <thead>\n",
              "    <tr style=\"text-align: right;\">\n",
              "      <th></th>\n",
              "      <th>Field1</th>\n",
              "      <th>Text</th>\n",
              "      <th>Text1</th>\n",
              "      <th>Text2</th>\n",
              "    </tr>\n",
              "  </thead>\n",
              "  <tbody>\n",
              "    <tr>\n",
              "      <th>0</th>\n",
              "      <td>Field1</td>\n",
              "      <td>Text</td>\n",
              "      <td>Text1</td>\n",
              "      <td>Text2</td>\n",
              "    </tr>\n",
              "    <tr>\n",
              "      <th>1</th>\n",
              "      <td>PlanB\\n@100trillionUSD\\n·\\n3 de out\\nDo you th...</td>\n",
              "      <td>Do you think #bitcoin will reach $500K, $288K ...</td>\n",
              "      <td>@100trillionUSD</td>\n",
              "      <td>3 de out</td>\n",
              "    </tr>\n",
              "    <tr>\n",
              "      <th>2</th>\n",
              "      <td>PlanB\\n@100trillionUSD\\n·\\n11 de set\\nDo you t...</td>\n",
              "      <td>Do you think #bitcoin will reach $500K, $288K ...</td>\n",
              "      <td>@100trillionUSD</td>\n",
              "      <td>11 de set</td>\n",
              "    </tr>\n",
              "    <tr>\n",
              "      <th>3</th>\n",
              "      <td>PlanB\\n@100trillionUSD\\n·\\n7 de set\\n43k\\n979\\...</td>\n",
              "      <td>43k</td>\n",
              "      <td>@100trillionUSD</td>\n",
              "      <td>7 de set</td>\n",
              "    </tr>\n",
              "    <tr>\n",
              "      <th>4</th>\n",
              "      <td>PlanB\\n@100trillionUSD\\n·\\n15 de ago\\nDo you t...</td>\n",
              "      <td>Do you think #bitcoin will reach $500K, $288K ...</td>\n",
              "      <td>@100trillionUSD</td>\n",
              "      <td>15 de ago</td>\n",
              "    </tr>\n",
              "    <tr>\n",
              "      <th>...</th>\n",
              "      <td>...</td>\n",
              "      <td>...</td>\n",
              "      <td>...</td>\n",
              "      <td>...</td>\n",
              "    </tr>\n",
              "    <tr>\n",
              "      <th>67159</th>\n",
              "      <td>Willy Woo\\n@woonomic\\n·\\n30 de nov de 2012\\nAn...</td>\n",
              "      <td>And it's started... #tedxtearo nice work guys!</td>\n",
              "      <td>@woonomic</td>\n",
              "      <td>30 de nov de 2012</td>\n",
              "    </tr>\n",
              "    <tr>\n",
              "      <th>67160</th>\n",
              "      <td>Willy Woo\\n@woonomic\\n·\\n7 de mar de 2011\\nOn ...</td>\n",
              "      <td>On knowledge: Circa 1400 a book cost you the p...</td>\n",
              "      <td>@woonomic</td>\n",
              "      <td>7 de mar de 2011</td>\n",
              "    </tr>\n",
              "    <tr>\n",
              "      <th>67161</th>\n",
              "      <td>Willy Woo\\n@woonomic\\n·\\n9 de out de 2009\\nOpe...</td>\n",
              "      <td>Opened up my new MacBook Pro 13 Unibody. Wow, ...</td>\n",
              "      <td>@woonomic</td>\n",
              "      <td>9 de out de 2009</td>\n",
              "    </tr>\n",
              "    <tr>\n",
              "      <th>67162</th>\n",
              "      <td>Willy Woo\\n@woonomic\\n·\\n29 de jul de 2009\\nGM...</td>\n",
              "      <td>GMail Tip:  just discovered you can drag label...</td>\n",
              "      <td>@woonomic</td>\n",
              "      <td>29 de jul de 2009</td>\n",
              "    </tr>\n",
              "    <tr>\n",
              "      <th>67163</th>\n",
              "      <td>Willy Woo\\n@woonomic\\n·\\n24 de mar de 2009\\nGi...</td>\n",
              "      <td>Giving TweetDeck a go... in my camper...  Out ...</td>\n",
              "      <td>@woonomic</td>\n",
              "      <td>24 de mar de 2009\u001a</td>\n",
              "    </tr>\n",
              "  </tbody>\n",
              "</table>\n",
              "<p>67164 rows × 4 columns</p>\n",
              "</div>"
            ],
            "text/plain": [
              "                                                  Field1  ...               Text2\n",
              "0                                                 Field1  ...               Text2\n",
              "1      PlanB\\n@100trillionUSD\\n·\\n3 de out\\nDo you th...  ...            3 de out\n",
              "2      PlanB\\n@100trillionUSD\\n·\\n11 de set\\nDo you t...  ...           11 de set\n",
              "3      PlanB\\n@100trillionUSD\\n·\\n7 de set\\n43k\\n979\\...  ...            7 de set\n",
              "4      PlanB\\n@100trillionUSD\\n·\\n15 de ago\\nDo you t...  ...           15 de ago\n",
              "...                                                  ...  ...                 ...\n",
              "67159  Willy Woo\\n@woonomic\\n·\\n30 de nov de 2012\\nAn...  ...   30 de nov de 2012\n",
              "67160  Willy Woo\\n@woonomic\\n·\\n7 de mar de 2011\\nOn ...  ...    7 de mar de 2011\n",
              "67161  Willy Woo\\n@woonomic\\n·\\n9 de out de 2009\\nOpe...  ...    9 de out de 2009\n",
              "67162  Willy Woo\\n@woonomic\\n·\\n29 de jul de 2009\\nGM...  ...   29 de jul de 2009\n",
              "67163  Willy Woo\\n@woonomic\\n·\\n24 de mar de 2009\\nGi...  ...  24 de mar de 2009\u001a\n",
              "\n",
              "[67164 rows x 4 columns]"
            ]
          },
          "metadata": {},
          "execution_count": 69
        }
      ]
    },
    {
      "cell_type": "markdown",
      "metadata": {
        "id": "qrzeKF_sqtcF"
      },
      "source": [
        "# Adjusting dataframe"
      ]
    },
    {
      "cell_type": "markdown",
      "metadata": {
        "id": "6VQcte6wqXh1"
      },
      "source": [
        "## Removing unnecessary lines and columns"
      ]
    },
    {
      "cell_type": "code",
      "metadata": {
        "id": "fF9J9KZJqXWF"
      },
      "source": [
        "df_tweets.pop(\"Field1\")\n",
        "df_tweets.drop(index=0, axis=0, inplace=True)"
      ],
      "execution_count": 70,
      "outputs": []
    },
    {
      "cell_type": "markdown",
      "metadata": {
        "id": "glHHgqC-oqr2"
      },
      "source": [
        "## Renaming the columns"
      ]
    },
    {
      "cell_type": "code",
      "metadata": {
        "colab": {
          "base_uri": "https://localhost:8080/",
          "height": 418
        },
        "id": "RqTKNJwpntG0",
        "outputId": "a5e5c3c2-8de0-4687-fcac-aef6df2ec6f3"
      },
      "source": [
        "new_heades = {\n",
        "    # current name : new name\n",
        "    'Text' : 'Tweet',\n",
        "    'Text1' : 'User', \n",
        "    'Text2': 'Date'\n",
        "}\n",
        "\n",
        "df_tweets.rename(columns=new_heades, inplace=True)\n",
        "df_tweets"
      ],
      "execution_count": 71,
      "outputs": [
        {
          "output_type": "execute_result",
          "data": {
            "text/html": [
              "<div>\n",
              "<style scoped>\n",
              "    .dataframe tbody tr th:only-of-type {\n",
              "        vertical-align: middle;\n",
              "    }\n",
              "\n",
              "    .dataframe tbody tr th {\n",
              "        vertical-align: top;\n",
              "    }\n",
              "\n",
              "    .dataframe thead th {\n",
              "        text-align: right;\n",
              "    }\n",
              "</style>\n",
              "<table border=\"1\" class=\"dataframe\">\n",
              "  <thead>\n",
              "    <tr style=\"text-align: right;\">\n",
              "      <th></th>\n",
              "      <th>Tweet</th>\n",
              "      <th>User</th>\n",
              "      <th>Date</th>\n",
              "    </tr>\n",
              "  </thead>\n",
              "  <tbody>\n",
              "    <tr>\n",
              "      <th>1</th>\n",
              "      <td>Do you think #bitcoin will reach $500K, $288K ...</td>\n",
              "      <td>@100trillionUSD</td>\n",
              "      <td>3 de out</td>\n",
              "    </tr>\n",
              "    <tr>\n",
              "      <th>2</th>\n",
              "      <td>Do you think #bitcoin will reach $500K, $288K ...</td>\n",
              "      <td>@100trillionUSD</td>\n",
              "      <td>11 de set</td>\n",
              "    </tr>\n",
              "    <tr>\n",
              "      <th>3</th>\n",
              "      <td>43k</td>\n",
              "      <td>@100trillionUSD</td>\n",
              "      <td>7 de set</td>\n",
              "    </tr>\n",
              "    <tr>\n",
              "      <th>4</th>\n",
              "      <td>Do you think #bitcoin will reach $500K, $288K ...</td>\n",
              "      <td>@100trillionUSD</td>\n",
              "      <td>15 de ago</td>\n",
              "    </tr>\n",
              "    <tr>\n",
              "      <th>5</th>\n",
              "      <td>So was $64K the top for this cycle (halving 20...</td>\n",
              "      <td>@100trillionUSD</td>\n",
              "      <td>1 de jul</td>\n",
              "    </tr>\n",
              "    <tr>\n",
              "      <th>...</th>\n",
              "      <td>...</td>\n",
              "      <td>...</td>\n",
              "      <td>...</td>\n",
              "    </tr>\n",
              "    <tr>\n",
              "      <th>67159</th>\n",
              "      <td>And it's started... #tedxtearo nice work guys!</td>\n",
              "      <td>@woonomic</td>\n",
              "      <td>30 de nov de 2012</td>\n",
              "    </tr>\n",
              "    <tr>\n",
              "      <th>67160</th>\n",
              "      <td>On knowledge: Circa 1400 a book cost you the p...</td>\n",
              "      <td>@woonomic</td>\n",
              "      <td>7 de mar de 2011</td>\n",
              "    </tr>\n",
              "    <tr>\n",
              "      <th>67161</th>\n",
              "      <td>Opened up my new MacBook Pro 13 Unibody. Wow, ...</td>\n",
              "      <td>@woonomic</td>\n",
              "      <td>9 de out de 2009</td>\n",
              "    </tr>\n",
              "    <tr>\n",
              "      <th>67162</th>\n",
              "      <td>GMail Tip:  just discovered you can drag label...</td>\n",
              "      <td>@woonomic</td>\n",
              "      <td>29 de jul de 2009</td>\n",
              "    </tr>\n",
              "    <tr>\n",
              "      <th>67163</th>\n",
              "      <td>Giving TweetDeck a go... in my camper...  Out ...</td>\n",
              "      <td>@woonomic</td>\n",
              "      <td>24 de mar de 2009\u001a</td>\n",
              "    </tr>\n",
              "  </tbody>\n",
              "</table>\n",
              "<p>67163 rows × 3 columns</p>\n",
              "</div>"
            ],
            "text/plain": [
              "                                                   Tweet  ...                Date\n",
              "1      Do you think #bitcoin will reach $500K, $288K ...  ...            3 de out\n",
              "2      Do you think #bitcoin will reach $500K, $288K ...  ...           11 de set\n",
              "3                                                    43k  ...            7 de set\n",
              "4      Do you think #bitcoin will reach $500K, $288K ...  ...           15 de ago\n",
              "5      So was $64K the top for this cycle (halving 20...  ...            1 de jul\n",
              "...                                                  ...  ...                 ...\n",
              "67159     And it's started... #tedxtearo nice work guys!  ...   30 de nov de 2012\n",
              "67160  On knowledge: Circa 1400 a book cost you the p...  ...    7 de mar de 2011\n",
              "67161  Opened up my new MacBook Pro 13 Unibody. Wow, ...  ...    9 de out de 2009\n",
              "67162  GMail Tip:  just discovered you can drag label...  ...   29 de jul de 2009\n",
              "67163  Giving TweetDeck a go... in my camper...  Out ...  ...  24 de mar de 2009\u001a\n",
              "\n",
              "[67163 rows x 3 columns]"
            ]
          },
          "metadata": {},
          "execution_count": 71
        }
      ]
    },
    {
      "cell_type": "markdown",
      "metadata": {
        "id": "8CocOrrCrpnr"
      },
      "source": [
        "# Changing column data type"
      ]
    },
    {
      "cell_type": "code",
      "metadata": {
        "colab": {
          "base_uri": "https://localhost:8080/"
        },
        "id": "1M-iFpUWrAL3",
        "outputId": "a787f51c-0a95-400d-fcc8-6d48f59839c8"
      },
      "source": [
        "df_tweets.info()"
      ],
      "execution_count": 72,
      "outputs": [
        {
          "output_type": "stream",
          "name": "stdout",
          "text": [
            "<class 'pandas.core.frame.DataFrame'>\n",
            "Int64Index: 67163 entries, 1 to 67163\n",
            "Data columns (total 3 columns):\n",
            " #   Column  Non-Null Count  Dtype \n",
            "---  ------  --------------  ----- \n",
            " 0   Tweet   66921 non-null  object\n",
            " 1   User    67146 non-null  object\n",
            " 2   Date    67132 non-null  object\n",
            "dtypes: object(3)\n",
            "memory usage: 2.0+ MB\n"
          ]
        }
      ]
    },
    {
      "cell_type": "markdown",
      "metadata": {
        "id": "tBvvsgrcscNV"
      },
      "source": [
        "Tweet and User column will be change from object to String"
      ]
    },
    {
      "cell_type": "code",
      "metadata": {
        "colab": {
          "base_uri": "https://localhost:8080/"
        },
        "id": "cj0ulginr2Qb",
        "outputId": "eb9fdb6d-9426-4728-ff1c-cb93f64d3cdc"
      },
      "source": [
        "df_tweets['Tweet'].astype(str)"
      ],
      "execution_count": 73,
      "outputs": [
        {
          "output_type": "execute_result",
          "data": {
            "text/plain": [
              "1        Do you think #bitcoin will reach $500K, $288K ...\n",
              "2        Do you think #bitcoin will reach $500K, $288K ...\n",
              "3                                                      43k\n",
              "4        Do you think #bitcoin will reach $500K, $288K ...\n",
              "5        So was $64K the top for this cycle (halving 20...\n",
              "                               ...                        \n",
              "67159       And it's started... #tedxtearo nice work guys!\n",
              "67160    On knowledge: Circa 1400 a book cost you the p...\n",
              "67161    Opened up my new MacBook Pro 13 Unibody. Wow, ...\n",
              "67162    GMail Tip:  just discovered you can drag label...\n",
              "67163    Giving TweetDeck a go... in my camper...  Out ...\n",
              "Name: Tweet, Length: 67163, dtype: object"
            ]
          },
          "metadata": {},
          "execution_count": 73
        }
      ]
    },
    {
      "cell_type": "code",
      "metadata": {
        "colab": {
          "base_uri": "https://localhost:8080/"
        },
        "id": "RzDVNgvItQDj",
        "outputId": "245714b1-b582-44f9-ac99-f7a3ac1659ee"
      },
      "source": [
        "df_tweets['User'].astype(str)"
      ],
      "execution_count": 74,
      "outputs": [
        {
          "output_type": "execute_result",
          "data": {
            "text/plain": [
              "1        @100trillionUSD\n",
              "2        @100trillionUSD\n",
              "3        @100trillionUSD\n",
              "4        @100trillionUSD\n",
              "5        @100trillionUSD\n",
              "              ...       \n",
              "67159          @woonomic\n",
              "67160          @woonomic\n",
              "67161          @woonomic\n",
              "67162          @woonomic\n",
              "67163          @woonomic\n",
              "Name: User, Length: 67163, dtype: object"
            ]
          },
          "metadata": {},
          "execution_count": 74
        }
      ]
    },
    {
      "cell_type": "markdown",
      "metadata": {
        "id": "mV0jS3Dcunjc"
      },
      "source": [
        "Before changing the data type of the Date column it is necessary to change some values that are incorrect"
      ]
    },
    {
      "cell_type": "code",
      "metadata": {
        "colab": {
          "base_uri": "https://localhost:8080/"
        },
        "id": "0lyYuiJ5tv6N",
        "outputId": "e9853dc9-b840-4c72-81d8-aba12f4b7f7a"
      },
      "source": [
        "df_tweets['Date']"
      ],
      "execution_count": 79,
      "outputs": [
        {
          "output_type": "execute_result",
          "data": {
            "text/plain": [
              "1                  3 de out\n",
              "2                 11 de set\n",
              "3                  7 de set\n",
              "4                 15 de ago\n",
              "5                  1 de jul\n",
              "                ...        \n",
              "67159     30 de nov de 2012\n",
              "67160      7 de mar de 2011\n",
              "67161      9 de out de 2009\n",
              "67162     29 de jul de 2009\n",
              "67163    24 de mar de 2009\u001a\n",
              "Name: Date, Length: 67163, dtype: object"
            ]
          },
          "metadata": {},
          "execution_count": 79
        }
      ]
    },
    {
      "cell_type": "code",
      "metadata": {
        "id": "_MnjaQ6GtbyC"
      },
      "source": [
        ""
      ],
      "execution_count": 78,
      "outputs": []
    }
  ]
}