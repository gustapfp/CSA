{
  "nbformat": 4,
  "nbformat_minor": 0,
  "metadata": {
    "colab": {
      "name": "clean_bitcoin_data",
      "provenance": []
    },
    "kernelspec": {
      "name": "python3",
      "display_name": "Python 3"
    },
    "language_info": {
      "name": "python"
    }
  },
  "cells": [
    {
      "cell_type": "markdown",
      "metadata": {
        "id": "hJg4YN9n2vNi"
      },
      "source": [
        "# Cleaning and Organizing data extracted from bitcoin cotatio"
      ]
    },
    {
      "cell_type": "markdown",
      "metadata": {
        "id": "SffBG6vq4v0I"
      },
      "source": [
        "Importing the necessary libraries for data cleaning and organization"
      ]
    },
    {
      "cell_type": "code",
      "metadata": {
        "id": "Vz6RPDcw4wgJ"
      },
      "source": [
        "import pandas as pd"
      ],
      "execution_count": 25,
      "outputs": []
    },
    {
      "cell_type": "markdown",
      "metadata": {
        "id": "l2TvoNMz3Ial"
      },
      "source": [
        "# Getting the dataset\n",
        "First of all I extracted the data from the link below in a csv file, was the easiest source I have found to collect the Bitcoin quotation, doesn't need use a API or write any type of code.\n",
        "\n",
        "https://finance.yahoo.com/quote/BTC-USD/history?period1=1410739200&period2=1634515200&interval=1d&filter=history&frequency=1d&includeAdjustedClose=true"
      ]
    },
    {
      "cell_type": "code",
      "metadata": {
        "id": "uN3hBPD92tmf"
      },
      "source": [
        "bitcoin_dataset = pd.read_csv(\"/content/drive/MyDrive/DI - Analise Bitcoin - GPU/4. Execução/0. Dados Coletados/BTC-USD.csv\")"
      ],
      "execution_count": 26,
      "outputs": []
    },
    {
      "cell_type": "code",
      "metadata": {
        "colab": {
          "base_uri": "https://localhost:8080/",
          "height": 418
        },
        "id": "N_r954Lt6APK",
        "outputId": "2be18660-2ecb-4b3d-918e-e6ef293ff193"
      },
      "source": [
        "bitcoin_dataset"
      ],
      "execution_count": 27,
      "outputs": [
        {
          "output_type": "execute_result",
          "data": {
            "text/html": [
              "<div>\n",
              "<style scoped>\n",
              "    .dataframe tbody tr th:only-of-type {\n",
              "        vertical-align: middle;\n",
              "    }\n",
              "\n",
              "    .dataframe tbody tr th {\n",
              "        vertical-align: top;\n",
              "    }\n",
              "\n",
              "    .dataframe thead th {\n",
              "        text-align: right;\n",
              "    }\n",
              "</style>\n",
              "<table border=\"1\" class=\"dataframe\">\n",
              "  <thead>\n",
              "    <tr style=\"text-align: right;\">\n",
              "      <th></th>\n",
              "      <th>Date</th>\n",
              "      <th>Open</th>\n",
              "      <th>High</th>\n",
              "      <th>Low</th>\n",
              "      <th>Close</th>\n",
              "      <th>Adj Close</th>\n",
              "      <th>Volume</th>\n",
              "    </tr>\n",
              "  </thead>\n",
              "  <tbody>\n",
              "    <tr>\n",
              "      <th>0</th>\n",
              "      <td>2014-09-17</td>\n",
              "      <td>465.864014</td>\n",
              "      <td>468.174011</td>\n",
              "      <td>452.421997</td>\n",
              "      <td>457.334015</td>\n",
              "      <td>457.334015</td>\n",
              "      <td>2.105680e+07</td>\n",
              "    </tr>\n",
              "    <tr>\n",
              "      <th>1</th>\n",
              "      <td>2014-09-18</td>\n",
              "      <td>456.859985</td>\n",
              "      <td>456.859985</td>\n",
              "      <td>413.104004</td>\n",
              "      <td>424.440002</td>\n",
              "      <td>424.440002</td>\n",
              "      <td>3.448320e+07</td>\n",
              "    </tr>\n",
              "    <tr>\n",
              "      <th>2</th>\n",
              "      <td>2014-09-19</td>\n",
              "      <td>424.102997</td>\n",
              "      <td>427.834991</td>\n",
              "      <td>384.532013</td>\n",
              "      <td>394.795990</td>\n",
              "      <td>394.795990</td>\n",
              "      <td>3.791970e+07</td>\n",
              "    </tr>\n",
              "    <tr>\n",
              "      <th>3</th>\n",
              "      <td>2014-09-20</td>\n",
              "      <td>394.673004</td>\n",
              "      <td>423.295990</td>\n",
              "      <td>389.882996</td>\n",
              "      <td>408.903992</td>\n",
              "      <td>408.903992</td>\n",
              "      <td>3.686360e+07</td>\n",
              "    </tr>\n",
              "    <tr>\n",
              "      <th>4</th>\n",
              "      <td>2014-09-21</td>\n",
              "      <td>408.084991</td>\n",
              "      <td>412.425995</td>\n",
              "      <td>393.181000</td>\n",
              "      <td>398.821014</td>\n",
              "      <td>398.821014</td>\n",
              "      <td>2.658010e+07</td>\n",
              "    </tr>\n",
              "    <tr>\n",
              "      <th>...</th>\n",
              "      <td>...</td>\n",
              "      <td>...</td>\n",
              "      <td>...</td>\n",
              "      <td>...</td>\n",
              "      <td>...</td>\n",
              "      <td>...</td>\n",
              "      <td>...</td>\n",
              "    </tr>\n",
              "    <tr>\n",
              "      <th>2584</th>\n",
              "      <td>2021-10-14</td>\n",
              "      <td>57372.832031</td>\n",
              "      <td>58478.734375</td>\n",
              "      <td>56957.074219</td>\n",
              "      <td>57321.523438</td>\n",
              "      <td>57321.523438</td>\n",
              "      <td>3.661579e+10</td>\n",
              "    </tr>\n",
              "    <tr>\n",
              "      <th>2585</th>\n",
              "      <td>2021-10-15</td>\n",
              "      <td>57345.902344</td>\n",
              "      <td>62757.128906</td>\n",
              "      <td>56868.144531</td>\n",
              "      <td>61593.949219</td>\n",
              "      <td>61593.949219</td>\n",
              "      <td>5.178008e+10</td>\n",
              "    </tr>\n",
              "    <tr>\n",
              "      <th>2586</th>\n",
              "      <td>2021-10-16</td>\n",
              "      <td>61609.527344</td>\n",
              "      <td>62274.476563</td>\n",
              "      <td>60206.121094</td>\n",
              "      <td>60892.179688</td>\n",
              "      <td>60892.179688</td>\n",
              "      <td>3.425096e+10</td>\n",
              "    </tr>\n",
              "    <tr>\n",
              "      <th>2587</th>\n",
              "      <td>2021-10-17</td>\n",
              "      <td>60887.652344</td>\n",
              "      <td>61645.523438</td>\n",
              "      <td>59164.468750</td>\n",
              "      <td>61553.617188</td>\n",
              "      <td>61553.617188</td>\n",
              "      <td>2.903237e+10</td>\n",
              "    </tr>\n",
              "    <tr>\n",
              "      <th>2588</th>\n",
              "      <td>2021-10-18</td>\n",
              "      <td>61548.804688</td>\n",
              "      <td>62614.660156</td>\n",
              "      <td>60012.757813</td>\n",
              "      <td>62026.078125</td>\n",
              "      <td>62026.078125</td>\n",
              "      <td>3.805556e+10</td>\n",
              "    </tr>\n",
              "  </tbody>\n",
              "</table>\n",
              "<p>2589 rows × 7 columns</p>\n",
              "</div>"
            ],
            "text/plain": [
              "            Date          Open  ...     Adj Close        Volume\n",
              "0     2014-09-17    465.864014  ...    457.334015  2.105680e+07\n",
              "1     2014-09-18    456.859985  ...    424.440002  3.448320e+07\n",
              "2     2014-09-19    424.102997  ...    394.795990  3.791970e+07\n",
              "3     2014-09-20    394.673004  ...    408.903992  3.686360e+07\n",
              "4     2014-09-21    408.084991  ...    398.821014  2.658010e+07\n",
              "...          ...           ...  ...           ...           ...\n",
              "2584  2021-10-14  57372.832031  ...  57321.523438  3.661579e+10\n",
              "2585  2021-10-15  57345.902344  ...  61593.949219  5.178008e+10\n",
              "2586  2021-10-16  61609.527344  ...  60892.179688  3.425096e+10\n",
              "2587  2021-10-17  60887.652344  ...  61553.617188  2.903237e+10\n",
              "2588  2021-10-18  61548.804688  ...  62026.078125  3.805556e+10\n",
              "\n",
              "[2589 rows x 7 columns]"
            ]
          },
          "metadata": {},
          "execution_count": 27
        }
      ]
    },
    {
      "cell_type": "markdown",
      "metadata": {
        "id": "heZkj2SN6ebh"
      },
      "source": [
        "# Adjusting the Date Column\n",
        "As we see on the cell below the date column is of the type object and not date as we expected"
      ]
    },
    {
      "cell_type": "code",
      "metadata": {
        "colab": {
          "base_uri": "https://localhost:8080/"
        },
        "id": "v00qAeRu6BvU",
        "outputId": "24066d72-b1cd-44b2-895a-577a278ae05c"
      },
      "source": [
        "bitcoin_dataset.info()"
      ],
      "execution_count": 28,
      "outputs": [
        {
          "output_type": "stream",
          "name": "stdout",
          "text": [
            "<class 'pandas.core.frame.DataFrame'>\n",
            "RangeIndex: 2589 entries, 0 to 2588\n",
            "Data columns (total 7 columns):\n",
            " #   Column     Non-Null Count  Dtype  \n",
            "---  ------     --------------  -----  \n",
            " 0   Date       2589 non-null   object \n",
            " 1   Open       2585 non-null   float64\n",
            " 2   High       2585 non-null   float64\n",
            " 3   Low        2585 non-null   float64\n",
            " 4   Close      2585 non-null   float64\n",
            " 5   Adj Close  2585 non-null   float64\n",
            " 6   Volume     2585 non-null   float64\n",
            "dtypes: float64(6), object(1)\n",
            "memory usage: 141.7+ KB\n"
          ]
        }
      ]
    },
    {
      "cell_type": "markdown",
      "metadata": {
        "id": "s7pNjKEF8Kbt"
      },
      "source": [
        "Converting the date column to datetime type\n"
      ]
    },
    {
      "cell_type": "code",
      "metadata": {
        "id": "0dKQlPEk7xj1"
      },
      "source": [
        "bitcoin_dataset['Date'] = bitcoin_dataset['Date'].astype('datetime64[ns]')"
      ],
      "execution_count": 29,
      "outputs": []
    },
    {
      "cell_type": "code",
      "metadata": {
        "colab": {
          "base_uri": "https://localhost:8080/"
        },
        "id": "WaHojrm58old",
        "outputId": "77cd2d00-8c04-4237-d16e-3d18ca30d6dc"
      },
      "source": [
        "bitcoin_dataset.info()"
      ],
      "execution_count": 30,
      "outputs": [
        {
          "output_type": "stream",
          "name": "stdout",
          "text": [
            "<class 'pandas.core.frame.DataFrame'>\n",
            "RangeIndex: 2589 entries, 0 to 2588\n",
            "Data columns (total 7 columns):\n",
            " #   Column     Non-Null Count  Dtype         \n",
            "---  ------     --------------  -----         \n",
            " 0   Date       2589 non-null   datetime64[ns]\n",
            " 1   Open       2585 non-null   float64       \n",
            " 2   High       2585 non-null   float64       \n",
            " 3   Low        2585 non-null   float64       \n",
            " 4   Close      2585 non-null   float64       \n",
            " 5   Adj Close  2585 non-null   float64       \n",
            " 6   Volume     2585 non-null   float64       \n",
            "dtypes: datetime64[ns](1), float64(6)\n",
            "memory usage: 141.7 KB\n"
          ]
        }
      ]
    },
    {
      "cell_type": "markdown",
      "metadata": {
        "id": "4c5PjyNl84jH"
      },
      "source": [
        "It is also necessary to change the order in which the structure was arranged so that the a is from the most recent date to the oldest."
      ]
    },
    {
      "cell_type": "code",
      "metadata": {
        "colab": {
          "base_uri": "https://localhost:8080/",
          "height": 418
        },
        "id": "KYHw-qpf9XXP",
        "outputId": "3551c721-4d5d-4bfc-8837-88d54375fbd2"
      },
      "source": [
        "bitcoin_dataset = bitcoin_dataset[::-1].reset_index(drop = True)  # reset_index ajust to the index doesn't reverse\n",
        "bitcoin_dataset"
      ],
      "execution_count": 31,
      "outputs": [
        {
          "output_type": "execute_result",
          "data": {
            "text/html": [
              "<div>\n",
              "<style scoped>\n",
              "    .dataframe tbody tr th:only-of-type {\n",
              "        vertical-align: middle;\n",
              "    }\n",
              "\n",
              "    .dataframe tbody tr th {\n",
              "        vertical-align: top;\n",
              "    }\n",
              "\n",
              "    .dataframe thead th {\n",
              "        text-align: right;\n",
              "    }\n",
              "</style>\n",
              "<table border=\"1\" class=\"dataframe\">\n",
              "  <thead>\n",
              "    <tr style=\"text-align: right;\">\n",
              "      <th></th>\n",
              "      <th>Date</th>\n",
              "      <th>Open</th>\n",
              "      <th>High</th>\n",
              "      <th>Low</th>\n",
              "      <th>Close</th>\n",
              "      <th>Adj Close</th>\n",
              "      <th>Volume</th>\n",
              "    </tr>\n",
              "  </thead>\n",
              "  <tbody>\n",
              "    <tr>\n",
              "      <th>0</th>\n",
              "      <td>2021-10-18</td>\n",
              "      <td>61548.804688</td>\n",
              "      <td>62614.660156</td>\n",
              "      <td>60012.757813</td>\n",
              "      <td>62026.078125</td>\n",
              "      <td>62026.078125</td>\n",
              "      <td>3.805556e+10</td>\n",
              "    </tr>\n",
              "    <tr>\n",
              "      <th>1</th>\n",
              "      <td>2021-10-17</td>\n",
              "      <td>60887.652344</td>\n",
              "      <td>61645.523438</td>\n",
              "      <td>59164.468750</td>\n",
              "      <td>61553.617188</td>\n",
              "      <td>61553.617188</td>\n",
              "      <td>2.903237e+10</td>\n",
              "    </tr>\n",
              "    <tr>\n",
              "      <th>2</th>\n",
              "      <td>2021-10-16</td>\n",
              "      <td>61609.527344</td>\n",
              "      <td>62274.476563</td>\n",
              "      <td>60206.121094</td>\n",
              "      <td>60892.179688</td>\n",
              "      <td>60892.179688</td>\n",
              "      <td>3.425096e+10</td>\n",
              "    </tr>\n",
              "    <tr>\n",
              "      <th>3</th>\n",
              "      <td>2021-10-15</td>\n",
              "      <td>57345.902344</td>\n",
              "      <td>62757.128906</td>\n",
              "      <td>56868.144531</td>\n",
              "      <td>61593.949219</td>\n",
              "      <td>61593.949219</td>\n",
              "      <td>5.178008e+10</td>\n",
              "    </tr>\n",
              "    <tr>\n",
              "      <th>4</th>\n",
              "      <td>2021-10-14</td>\n",
              "      <td>57372.832031</td>\n",
              "      <td>58478.734375</td>\n",
              "      <td>56957.074219</td>\n",
              "      <td>57321.523438</td>\n",
              "      <td>57321.523438</td>\n",
              "      <td>3.661579e+10</td>\n",
              "    </tr>\n",
              "    <tr>\n",
              "      <th>...</th>\n",
              "      <td>...</td>\n",
              "      <td>...</td>\n",
              "      <td>...</td>\n",
              "      <td>...</td>\n",
              "      <td>...</td>\n",
              "      <td>...</td>\n",
              "      <td>...</td>\n",
              "    </tr>\n",
              "    <tr>\n",
              "      <th>2584</th>\n",
              "      <td>2014-09-21</td>\n",
              "      <td>408.084991</td>\n",
              "      <td>412.425995</td>\n",
              "      <td>393.181000</td>\n",
              "      <td>398.821014</td>\n",
              "      <td>398.821014</td>\n",
              "      <td>2.658010e+07</td>\n",
              "    </tr>\n",
              "    <tr>\n",
              "      <th>2585</th>\n",
              "      <td>2014-09-20</td>\n",
              "      <td>394.673004</td>\n",
              "      <td>423.295990</td>\n",
              "      <td>389.882996</td>\n",
              "      <td>408.903992</td>\n",
              "      <td>408.903992</td>\n",
              "      <td>3.686360e+07</td>\n",
              "    </tr>\n",
              "    <tr>\n",
              "      <th>2586</th>\n",
              "      <td>2014-09-19</td>\n",
              "      <td>424.102997</td>\n",
              "      <td>427.834991</td>\n",
              "      <td>384.532013</td>\n",
              "      <td>394.795990</td>\n",
              "      <td>394.795990</td>\n",
              "      <td>3.791970e+07</td>\n",
              "    </tr>\n",
              "    <tr>\n",
              "      <th>2587</th>\n",
              "      <td>2014-09-18</td>\n",
              "      <td>456.859985</td>\n",
              "      <td>456.859985</td>\n",
              "      <td>413.104004</td>\n",
              "      <td>424.440002</td>\n",
              "      <td>424.440002</td>\n",
              "      <td>3.448320e+07</td>\n",
              "    </tr>\n",
              "    <tr>\n",
              "      <th>2588</th>\n",
              "      <td>2014-09-17</td>\n",
              "      <td>465.864014</td>\n",
              "      <td>468.174011</td>\n",
              "      <td>452.421997</td>\n",
              "      <td>457.334015</td>\n",
              "      <td>457.334015</td>\n",
              "      <td>2.105680e+07</td>\n",
              "    </tr>\n",
              "  </tbody>\n",
              "</table>\n",
              "<p>2589 rows × 7 columns</p>\n",
              "</div>"
            ],
            "text/plain": [
              "           Date          Open  ...     Adj Close        Volume\n",
              "0    2021-10-18  61548.804688  ...  62026.078125  3.805556e+10\n",
              "1    2021-10-17  60887.652344  ...  61553.617188  2.903237e+10\n",
              "2    2021-10-16  61609.527344  ...  60892.179688  3.425096e+10\n",
              "3    2021-10-15  57345.902344  ...  61593.949219  5.178008e+10\n",
              "4    2021-10-14  57372.832031  ...  57321.523438  3.661579e+10\n",
              "...         ...           ...  ...           ...           ...\n",
              "2584 2014-09-21    408.084991  ...    398.821014  2.658010e+07\n",
              "2585 2014-09-20    394.673004  ...    408.903992  3.686360e+07\n",
              "2586 2014-09-19    424.102997  ...    394.795990  3.791970e+07\n",
              "2587 2014-09-18    456.859985  ...    424.440002  3.448320e+07\n",
              "2588 2014-09-17    465.864014  ...    457.334015  2.105680e+07\n",
              "\n",
              "[2589 rows x 7 columns]"
            ]
          },
          "metadata": {},
          "execution_count": 31
        }
      ]
    },
    {
      "cell_type": "markdown",
      "metadata": {
        "id": "sjR2VPDD_XB_"
      },
      "source": [
        "# Selecting columns\n",
        "Selecting the columns that will be used on the project"
      ]
    },
    {
      "cell_type": "code",
      "metadata": {
        "id": "flCR4Few9v8p"
      },
      "source": [
        "selected_columns = [\n",
        "                    'Date',\n",
        "                    'Close'\n",
        "]\n",
        "\n",
        "new_name = {\n",
        "    'Close':'Price'\n",
        "}\n",
        "\n",
        "bitcoin_dataset = bitcoin_dataset[selected_columns]\n",
        "bitcoin_dataset.rename(columns=new_name, inplace=True)"
      ],
      "execution_count": 52,
      "outputs": []
    },
    {
      "cell_type": "code",
      "metadata": {
        "colab": {
          "base_uri": "https://localhost:8080/",
          "height": 418
        },
        "id": "QkiqBC5DA-Cm",
        "outputId": "fec37100-a823-4bfd-c89f-aa95b423d072"
      },
      "source": [
        "bitcoin_dataset"
      ],
      "execution_count": 53,
      "outputs": [
        {
          "output_type": "execute_result",
          "data": {
            "text/html": [
              "<div>\n",
              "<style scoped>\n",
              "    .dataframe tbody tr th:only-of-type {\n",
              "        vertical-align: middle;\n",
              "    }\n",
              "\n",
              "    .dataframe tbody tr th {\n",
              "        vertical-align: top;\n",
              "    }\n",
              "\n",
              "    .dataframe thead th {\n",
              "        text-align: right;\n",
              "    }\n",
              "</style>\n",
              "<table border=\"1\" class=\"dataframe\">\n",
              "  <thead>\n",
              "    <tr style=\"text-align: right;\">\n",
              "      <th></th>\n",
              "      <th>Date</th>\n",
              "      <th>Price</th>\n",
              "    </tr>\n",
              "  </thead>\n",
              "  <tbody>\n",
              "    <tr>\n",
              "      <th>0</th>\n",
              "      <td>2021-10-18</td>\n",
              "      <td>62026.078125</td>\n",
              "    </tr>\n",
              "    <tr>\n",
              "      <th>1</th>\n",
              "      <td>2021-10-17</td>\n",
              "      <td>61553.617188</td>\n",
              "    </tr>\n",
              "    <tr>\n",
              "      <th>2</th>\n",
              "      <td>2021-10-16</td>\n",
              "      <td>60892.179688</td>\n",
              "    </tr>\n",
              "    <tr>\n",
              "      <th>3</th>\n",
              "      <td>2021-10-15</td>\n",
              "      <td>61593.949219</td>\n",
              "    </tr>\n",
              "    <tr>\n",
              "      <th>4</th>\n",
              "      <td>2021-10-14</td>\n",
              "      <td>57321.523438</td>\n",
              "    </tr>\n",
              "    <tr>\n",
              "      <th>...</th>\n",
              "      <td>...</td>\n",
              "      <td>...</td>\n",
              "    </tr>\n",
              "    <tr>\n",
              "      <th>2584</th>\n",
              "      <td>2014-09-21</td>\n",
              "      <td>398.821014</td>\n",
              "    </tr>\n",
              "    <tr>\n",
              "      <th>2585</th>\n",
              "      <td>2014-09-20</td>\n",
              "      <td>408.903992</td>\n",
              "    </tr>\n",
              "    <tr>\n",
              "      <th>2586</th>\n",
              "      <td>2014-09-19</td>\n",
              "      <td>394.795990</td>\n",
              "    </tr>\n",
              "    <tr>\n",
              "      <th>2587</th>\n",
              "      <td>2014-09-18</td>\n",
              "      <td>424.440002</td>\n",
              "    </tr>\n",
              "    <tr>\n",
              "      <th>2588</th>\n",
              "      <td>2014-09-17</td>\n",
              "      <td>457.334015</td>\n",
              "    </tr>\n",
              "  </tbody>\n",
              "</table>\n",
              "<p>2589 rows × 2 columns</p>\n",
              "</div>"
            ],
            "text/plain": [
              "           Date         Price\n",
              "0    2021-10-18  62026.078125\n",
              "1    2021-10-17  61553.617188\n",
              "2    2021-10-16  60892.179688\n",
              "3    2021-10-15  61593.949219\n",
              "4    2021-10-14  57321.523438\n",
              "...         ...           ...\n",
              "2584 2014-09-21    398.821014\n",
              "2585 2014-09-20    408.903992\n",
              "2586 2014-09-19    394.795990\n",
              "2587 2014-09-18    424.440002\n",
              "2588 2014-09-17    457.334015\n",
              "\n",
              "[2589 rows x 2 columns]"
            ]
          },
          "metadata": {},
          "execution_count": 53
        }
      ]
    },
    {
      "cell_type": "markdown",
      "metadata": {
        "id": "DvooPyGNC4u1"
      },
      "source": [
        ""
      ]
    },
    {
      "cell_type": "code",
      "metadata": {
        "id": "5DJLEnQGBgHA"
      },
      "source": [
        ""
      ],
      "execution_count": null,
      "outputs": []
    }
  ]
}